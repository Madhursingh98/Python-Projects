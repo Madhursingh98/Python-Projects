{
 "cells": [
  {
   "cell_type": "code",
   "execution_count": null,
   "metadata": {
    "id": "JEr367l5sWF6"
   },
   "outputs": [],
   "source": [
    "import numpy as np\n",
    "import pandas as pd\n",
    "import matplotlib.pyplot as plt\n",
    "import seaborn as sns\n",
    "import warnings\n",
    "warnings.filterwarnings('ignore')"
   ]
  },
  {
   "cell_type": "markdown",
   "id": "af50fe61",
   "metadata": {},
   "source": [
    "## Importing Necessary Libraries\n",
    "\n",
    "We begin by importing the required libraries for data manipulation, visualization, and handling warnings."
   ]
  },
  {
   "cell_type": "code",
   "execution_count": null,
   "metadata": {
    "colab": {
     "base_uri": "https://localhost:8080/"
    },
    "executionInfo": {
     "elapsed": 4,
     "status": "ok",
     "timestamp": 1679841684808,
     "user": {
      "displayName": "Kirtika Rudra",
      "userId": "07472214669267027492"
     },
     "user_tz": -330
    },
    "id": "sZq04nyfwEfg",
    "outputId": "b74ffd7c-ad3f-4d4f-8746-e7a2dda39c0d"
   },
   "outputs": [
    {
     "name": "stdout",
     "output_type": "stream",
     "text": [
      "1.22.4\n",
      "1.4.4\n",
      "0.12.2\n"
     ]
    }
   ],
   "source": [
    "print(np.__version__)\n",
    "print(pd.__version__)\n",
    "print(sns.__version__)"
   ]
  },
  {
   "cell_type": "markdown",
   "id": "6d3cea77",
   "metadata": {},
   "source": [
    "## Displaying Library Versions\n",
    "\n",
    "It's always a good practice to display the versions of the major libraries used. This helps in ensuring reproducibility."
   ]
  },
  {
   "cell_type": "code",
   "execution_count": null,
   "metadata": {
    "colab": {
     "base_uri": "https://localhost:8080/",
     "height": 73
    },
    "executionInfo": {
     "elapsed": 13995,
     "status": "ok",
     "timestamp": 1679841700640,
     "user": {
      "displayName": "Kirtika Rudra",
      "userId": "07472214669267027492"
     },
     "user_tz": -330
    },
    "id": "sXMJZzO6sbnn",
    "outputId": "cd6e1ed0-48bd-45ce-8e61-f3c9d300e262"
   },
   "outputs": [
    {
     "data": {
      "text/html": [
       "\n",
       "     <input type=\"file\" id=\"files-810484ba-8bf2-4ee4-b752-07d518988775\" name=\"files[]\" multiple disabled\n",
       "        style=\"border:none\" />\n",
       "     <output id=\"result-810484ba-8bf2-4ee4-b752-07d518988775\">\n",
       "      Upload widget is only available when the cell has been executed in the\n",
       "      current browser session. Please rerun this cell to enable.\n",
       "      </output>\n",
       "      <script>// Copyright 2017 Google LLC\n",
       "//\n",
       "// Licensed under the Apache License, Version 2.0 (the \"License\");\n",
       "// you may not use this file except in compliance with the License.\n",
       "// You may obtain a copy of the License at\n",
       "//\n",
       "//      http://www.apache.org/licenses/LICENSE-2.0\n",
       "//\n",
       "// Unless required by applicable law or agreed to in writing, software\n",
       "// distributed under the License is distributed on an \"AS IS\" BASIS,\n",
       "// WITHOUT WARRANTIES OR CONDITIONS OF ANY KIND, either express or implied.\n",
       "// See the License for the specific language governing permissions and\n",
       "// limitations under the License.\n",
       "\n",
       "/**\n",
       " * @fileoverview Helpers for google.colab Python module.\n",
       " */\n",
       "(function(scope) {\n",
       "function span(text, styleAttributes = {}) {\n",
       "  const element = document.createElement('span');\n",
       "  element.textContent = text;\n",
       "  for (const key of Object.keys(styleAttributes)) {\n",
       "    element.style[key] = styleAttributes[key];\n",
       "  }\n",
       "  return element;\n",
       "}\n",
       "\n",
       "// Max number of bytes which will be uploaded at a time.\n",
       "const MAX_PAYLOAD_SIZE = 100 * 1024;\n",
       "\n",
       "function _uploadFiles(inputId, outputId) {\n",
       "  const steps = uploadFilesStep(inputId, outputId);\n",
       "  const outputElement = document.getElementById(outputId);\n",
       "  // Cache steps on the outputElement to make it available for the next call\n",
       "  // to uploadFilesContinue from Python.\n",
       "  outputElement.steps = steps;\n",
       "\n",
       "  return _uploadFilesContinue(outputId);\n",
       "}\n",
       "\n",
       "// This is roughly an async generator (not supported in the browser yet),\n",
       "// where there are multiple asynchronous steps and the Python side is going\n",
       "// to poll for completion of each step.\n",
       "// This uses a Promise to block the python side on completion of each step,\n",
       "// then passes the result of the previous step as the input to the next step.\n",
       "function _uploadFilesContinue(outputId) {\n",
       "  const outputElement = document.getElementById(outputId);\n",
       "  const steps = outputElement.steps;\n",
       "\n",
       "  const next = steps.next(outputElement.lastPromiseValue);\n",
       "  return Promise.resolve(next.value.promise).then((value) => {\n",
       "    // Cache the last promise value to make it available to the next\n",
       "    // step of the generator.\n",
       "    outputElement.lastPromiseValue = value;\n",
       "    return next.value.response;\n",
       "  });\n",
       "}\n",
       "\n",
       "/**\n",
       " * Generator function which is called between each async step of the upload\n",
       " * process.\n",
       " * @param {string} inputId Element ID of the input file picker element.\n",
       " * @param {string} outputId Element ID of the output display.\n",
       " * @return {!Iterable<!Object>} Iterable of next steps.\n",
       " */\n",
       "function* uploadFilesStep(inputId, outputId) {\n",
       "  const inputElement = document.getElementById(inputId);\n",
       "  inputElement.disabled = false;\n",
       "\n",
       "  const outputElement = document.getElementById(outputId);\n",
       "  outputElement.innerHTML = '';\n",
       "\n",
       "  const pickedPromise = new Promise((resolve) => {\n",
       "    inputElement.addEventListener('change', (e) => {\n",
       "      resolve(e.target.files);\n",
       "    });\n",
       "  });\n",
       "\n",
       "  const cancel = document.createElement('button');\n",
       "  inputElement.parentElement.appendChild(cancel);\n",
       "  cancel.textContent = 'Cancel upload';\n",
       "  const cancelPromise = new Promise((resolve) => {\n",
       "    cancel.onclick = () => {\n",
       "      resolve(null);\n",
       "    };\n",
       "  });\n",
       "\n",
       "  // Wait for the user to pick the files.\n",
       "  const files = yield {\n",
       "    promise: Promise.race([pickedPromise, cancelPromise]),\n",
       "    response: {\n",
       "      action: 'starting',\n",
       "    }\n",
       "  };\n",
       "\n",
       "  cancel.remove();\n",
       "\n",
       "  // Disable the input element since further picks are not allowed.\n",
       "  inputElement.disabled = true;\n",
       "\n",
       "  if (!files) {\n",
       "    return {\n",
       "      response: {\n",
       "        action: 'complete',\n",
       "      }\n",
       "    };\n",
       "  }\n",
       "\n",
       "  for (const file of files) {\n",
       "    const li = document.createElement('li');\n",
       "    li.append(span(file.name, {fontWeight: 'bold'}));\n",
       "    li.append(span(\n",
       "        `(${file.type || 'n/a'}) - ${file.size} bytes, ` +\n",
       "        `last modified: ${\n",
       "            file.lastModifiedDate ? file.lastModifiedDate.toLocaleDateString() :\n",
       "                                    'n/a'} - `));\n",
       "    const percent = span('0% done');\n",
       "    li.appendChild(percent);\n",
       "\n",
       "    outputElement.appendChild(li);\n",
       "\n",
       "    const fileDataPromise = new Promise((resolve) => {\n",
       "      const reader = new FileReader();\n",
       "      reader.onload = (e) => {\n",
       "        resolve(e.target.result);\n",
       "      };\n",
       "      reader.readAsArrayBuffer(file);\n",
       "    });\n",
       "    // Wait for the data to be ready.\n",
       "    let fileData = yield {\n",
       "      promise: fileDataPromise,\n",
       "      response: {\n",
       "        action: 'continue',\n",
       "      }\n",
       "    };\n",
       "\n",
       "    // Use a chunked sending to avoid message size limits. See b/62115660.\n",
       "    let position = 0;\n",
       "    do {\n",
       "      const length = Math.min(fileData.byteLength - position, MAX_PAYLOAD_SIZE);\n",
       "      const chunk = new Uint8Array(fileData, position, length);\n",
       "      position += length;\n",
       "\n",
       "      const base64 = btoa(String.fromCharCode.apply(null, chunk));\n",
       "      yield {\n",
       "        response: {\n",
       "          action: 'append',\n",
       "          file: file.name,\n",
       "          data: base64,\n",
       "        },\n",
       "      };\n",
       "\n",
       "      let percentDone = fileData.byteLength === 0 ?\n",
       "          100 :\n",
       "          Math.round((position / fileData.byteLength) * 100);\n",
       "      percent.textContent = `${percentDone}% done`;\n",
       "\n",
       "    } while (position < fileData.byteLength);\n",
       "  }\n",
       "\n",
       "  // All done.\n",
       "  yield {\n",
       "    response: {\n",
       "      action: 'complete',\n",
       "    }\n",
       "  };\n",
       "}\n",
       "\n",
       "scope.google = scope.google || {};\n",
       "scope.google.colab = scope.google.colab || {};\n",
       "scope.google.colab._files = {\n",
       "  _uploadFiles,\n",
       "  _uploadFilesContinue,\n",
       "};\n",
       "})(self);\n",
       "</script> "
      ],
      "text/plain": [
       "<IPython.core.display.HTML object>"
      ]
     },
     "metadata": {},
     "output_type": "display_data"
    },
    {
     "name": "stdout",
     "output_type": "stream",
     "text": [
      "Saving austo_automobile+(2)+(1) (1).csv to austo_automobile+(2)+(1) (1).csv\n"
     ]
    }
   ],
   "source": [
    "from google.colab import files\n",
    "data_to_load = files.upload()"
   ]
  },
  {
   "cell_type": "markdown",
   "id": "066296bb",
   "metadata": {},
   "source": [
    "## Uploading Data\n",
    "\n",
    "The code cell below attempts to upload data using Google Colab's `files.upload()` method. Note that this method is specific to Google Colab and won't work outside of that environment."
   ]
  },
  {
   "cell_type": "code",
   "execution_count": null,
   "metadata": {
    "id": "1XmzHdLislz0"
   },
   "outputs": [],
   "source": [
    "df = pd.read_csv('austo_automobile+(2)+(1) (1).csv')"
   ]
  },
  {
   "cell_type": "markdown",
   "id": "b8b27c17",
   "metadata": {},
   "source": [
    "## Loading the Dataset\n",
    "\n",
    "We load the dataset into a pandas DataFrame for further analysis."
   ]
  },
  {
   "cell_type": "markdown",
   "metadata": {
    "id": "oqpsvsiwwIjG"
   },
   "source": [
    "#Describe the data"
   ]
  },
  {
   "cell_type": "markdown",
   "id": "b59989fb",
   "metadata": {},
   "source": [
    "## Inspecting the Dataset\n",
    "\n",
    "We'll start by understanding the structure of our dataset - its shape, the first few rows, data types of columns, presence of any missing values, and basic descriptive statistics."
   ]
  },
  {
   "cell_type": "code",
   "execution_count": null,
   "metadata": {
    "colab": {
     "base_uri": "https://localhost:8080/"
    },
    "executionInfo": {
     "elapsed": 364,
     "status": "ok",
     "timestamp": 1679648584259,
     "user": {
      "displayName": "Kirtika Rudra",
      "userId": "07472214669267027492"
     },
     "user_tz": -330
    },
    "id": "YwOjxvGrsz2K",
    "outputId": "5031610d-79c1-4902-c4f8-a0539f30788d"
   },
   "outputs": [
    {
     "data": {
      "text/plain": [
       "(1581, 14)"
      ]
     },
     "execution_count": 6,
     "metadata": {},
     "output_type": "execute_result"
    }
   ],
   "source": [
    "df.shape"
   ]
  },
  {
   "cell_type": "code",
   "execution_count": null,
   "metadata": {
    "colab": {
     "base_uri": "https://localhost:8080/",
     "height": 339
    },
    "executionInfo": {
     "elapsed": 561,
     "status": "ok",
     "timestamp": 1679327212569,
     "user": {
      "displayName": "Kirtika Rudra",
      "userId": "07472214669267027492"
     },
     "user_tz": -330
    },
    "id": "9wck1fUcs2XR",
    "outputId": "a62d57c9-f09e-4a8f-8c7a-279e090f1602"
   },
   "outputs": [
    {
     "data": {
      "text/html": [
       "\n",
       "  <div id=\"df-6148ccd2-f63d-4a87-bf83-be53e3377a42\">\n",
       "    <div class=\"colab-df-container\">\n",
       "      <div>\n",
       "<style scoped>\n",
       "    .dataframe tbody tr th:only-of-type {\n",
       "        vertical-align: middle;\n",
       "    }\n",
       "\n",
       "    .dataframe tbody tr th {\n",
       "        vertical-align: top;\n",
       "    }\n",
       "\n",
       "    .dataframe thead th {\n",
       "        text-align: right;\n",
       "    }\n",
       "</style>\n",
       "<table border=\"1\" class=\"dataframe\">\n",
       "  <thead>\n",
       "    <tr style=\"text-align: right;\">\n",
       "      <th></th>\n",
       "      <th>Age</th>\n",
       "      <th>Gender</th>\n",
       "      <th>Profession</th>\n",
       "      <th>Marital_status</th>\n",
       "      <th>Education</th>\n",
       "      <th>No_of_Dependents</th>\n",
       "      <th>Personal_loan</th>\n",
       "      <th>House_loan</th>\n",
       "      <th>Partner_working</th>\n",
       "      <th>Salary</th>\n",
       "      <th>Partner_salary</th>\n",
       "      <th>Total_salary</th>\n",
       "      <th>Price</th>\n",
       "      <th>Make</th>\n",
       "    </tr>\n",
       "  </thead>\n",
       "  <tbody>\n",
       "    <tr>\n",
       "      <th>0</th>\n",
       "      <td>53</td>\n",
       "      <td>Male</td>\n",
       "      <td>Business</td>\n",
       "      <td>Married</td>\n",
       "      <td>Post Graduate</td>\n",
       "      <td>4</td>\n",
       "      <td>No</td>\n",
       "      <td>No</td>\n",
       "      <td>Yes</td>\n",
       "      <td>99300</td>\n",
       "      <td>70700.0</td>\n",
       "      <td>170000</td>\n",
       "      <td>61000</td>\n",
       "      <td>SUV</td>\n",
       "    </tr>\n",
       "    <tr>\n",
       "      <th>1</th>\n",
       "      <td>53</td>\n",
       "      <td>Femal</td>\n",
       "      <td>Salaried</td>\n",
       "      <td>Married</td>\n",
       "      <td>Post Graduate</td>\n",
       "      <td>4</td>\n",
       "      <td>Yes</td>\n",
       "      <td>No</td>\n",
       "      <td>Yes</td>\n",
       "      <td>95500</td>\n",
       "      <td>70300.0</td>\n",
       "      <td>165800</td>\n",
       "      <td>61000</td>\n",
       "      <td>SUV</td>\n",
       "    </tr>\n",
       "    <tr>\n",
       "      <th>2</th>\n",
       "      <td>53</td>\n",
       "      <td>Female</td>\n",
       "      <td>Salaried</td>\n",
       "      <td>Married</td>\n",
       "      <td>Post Graduate</td>\n",
       "      <td>3</td>\n",
       "      <td>No</td>\n",
       "      <td>No</td>\n",
       "      <td>Yes</td>\n",
       "      <td>97300</td>\n",
       "      <td>60700.0</td>\n",
       "      <td>158000</td>\n",
       "      <td>57000</td>\n",
       "      <td>SUV</td>\n",
       "    </tr>\n",
       "    <tr>\n",
       "      <th>3</th>\n",
       "      <td>53</td>\n",
       "      <td>Female</td>\n",
       "      <td>Salaried</td>\n",
       "      <td>Married</td>\n",
       "      <td>Graduate</td>\n",
       "      <td>2</td>\n",
       "      <td>Yes</td>\n",
       "      <td>No</td>\n",
       "      <td>Yes</td>\n",
       "      <td>72500</td>\n",
       "      <td>70300.0</td>\n",
       "      <td>142800</td>\n",
       "      <td>61000</td>\n",
       "      <td>SUV</td>\n",
       "    </tr>\n",
       "    <tr>\n",
       "      <th>4</th>\n",
       "      <td>53</td>\n",
       "      <td>Male</td>\n",
       "      <td>Salaried</td>\n",
       "      <td>Married</td>\n",
       "      <td>Post Graduate</td>\n",
       "      <td>3</td>\n",
       "      <td>No</td>\n",
       "      <td>No</td>\n",
       "      <td>Yes</td>\n",
       "      <td>79700</td>\n",
       "      <td>60200.0</td>\n",
       "      <td>139900</td>\n",
       "      <td>57000</td>\n",
       "      <td>SUV</td>\n",
       "    </tr>\n",
       "  </tbody>\n",
       "</table>\n",
       "</div>\n",
       "      <button class=\"colab-df-convert\" onclick=\"convertToInteractive('df-6148ccd2-f63d-4a87-bf83-be53e3377a42')\"\n",
       "              title=\"Convert this dataframe to an interactive table.\"\n",
       "              style=\"display:none;\">\n",
       "        \n",
       "  <svg xmlns=\"http://www.w3.org/2000/svg\" height=\"24px\"viewBox=\"0 0 24 24\"\n",
       "       width=\"24px\">\n",
       "    <path d=\"M0 0h24v24H0V0z\" fill=\"none\"/>\n",
       "    <path d=\"M18.56 5.44l.94 2.06.94-2.06 2.06-.94-2.06-.94-.94-2.06-.94 2.06-2.06.94zm-11 1L8.5 8.5l.94-2.06 2.06-.94-2.06-.94L8.5 2.5l-.94 2.06-2.06.94zm10 10l.94 2.06.94-2.06 2.06-.94-2.06-.94-.94-2.06-.94 2.06-2.06.94z\"/><path d=\"M17.41 7.96l-1.37-1.37c-.4-.4-.92-.59-1.43-.59-.52 0-1.04.2-1.43.59L10.3 9.45l-7.72 7.72c-.78.78-.78 2.05 0 2.83L4 21.41c.39.39.9.59 1.41.59.51 0 1.02-.2 1.41-.59l7.78-7.78 2.81-2.81c.8-.78.8-2.07 0-2.86zM5.41 20L4 18.59l7.72-7.72 1.47 1.35L5.41 20z\"/>\n",
       "  </svg>\n",
       "      </button>\n",
       "      \n",
       "  <style>\n",
       "    .colab-df-container {\n",
       "      display:flex;\n",
       "      flex-wrap:wrap;\n",
       "      gap: 12px;\n",
       "    }\n",
       "\n",
       "    .colab-df-convert {\n",
       "      background-color: #E8F0FE;\n",
       "      border: none;\n",
       "      border-radius: 50%;\n",
       "      cursor: pointer;\n",
       "      display: none;\n",
       "      fill: #1967D2;\n",
       "      height: 32px;\n",
       "      padding: 0 0 0 0;\n",
       "      width: 32px;\n",
       "    }\n",
       "\n",
       "    .colab-df-convert:hover {\n",
       "      background-color: #E2EBFA;\n",
       "      box-shadow: 0px 1px 2px rgba(60, 64, 67, 0.3), 0px 1px 3px 1px rgba(60, 64, 67, 0.15);\n",
       "      fill: #174EA6;\n",
       "    }\n",
       "\n",
       "    [theme=dark] .colab-df-convert {\n",
       "      background-color: #3B4455;\n",
       "      fill: #D2E3FC;\n",
       "    }\n",
       "\n",
       "    [theme=dark] .colab-df-convert:hover {\n",
       "      background-color: #434B5C;\n",
       "      box-shadow: 0px 1px 3px 1px rgba(0, 0, 0, 0.15);\n",
       "      filter: drop-shadow(0px 1px 2px rgba(0, 0, 0, 0.3));\n",
       "      fill: #FFFFFF;\n",
       "    }\n",
       "  </style>\n",
       "\n",
       "      <script>\n",
       "        const buttonEl =\n",
       "          document.querySelector('#df-6148ccd2-f63d-4a87-bf83-be53e3377a42 button.colab-df-convert');\n",
       "        buttonEl.style.display =\n",
       "          google.colab.kernel.accessAllowed ? 'block' : 'none';\n",
       "\n",
       "        async function convertToInteractive(key) {\n",
       "          const element = document.querySelector('#df-6148ccd2-f63d-4a87-bf83-be53e3377a42');\n",
       "          const dataTable =\n",
       "            await google.colab.kernel.invokeFunction('convertToInteractive',\n",
       "                                                     [key], {});\n",
       "          if (!dataTable) return;\n",
       "\n",
       "          const docLinkHtml = 'Like what you see? Visit the ' +\n",
       "            '<a target=\"_blank\" href=https://colab.research.google.com/notebooks/data_table.ipynb>data table notebook</a>'\n",
       "            + ' to learn more about interactive tables.';\n",
       "          element.innerHTML = '';\n",
       "          dataTable['output_type'] = 'display_data';\n",
       "          await google.colab.output.renderOutput(dataTable, element);\n",
       "          const docLink = document.createElement('div');\n",
       "          docLink.innerHTML = docLinkHtml;\n",
       "          element.appendChild(docLink);\n",
       "        }\n",
       "      </script>\n",
       "    </div>\n",
       "  </div>\n",
       "  "
      ],
      "text/plain": [
       "   Age  Gender Profession Marital_status      Education  No_of_Dependents  \\\n",
       "0   53    Male   Business        Married  Post Graduate                 4   \n",
       "1   53   Femal   Salaried        Married  Post Graduate                 4   \n",
       "2   53  Female   Salaried        Married  Post Graduate                 3   \n",
       "3   53  Female   Salaried        Married       Graduate                 2   \n",
       "4   53    Male   Salaried        Married  Post Graduate                 3   \n",
       "\n",
       "  Personal_loan House_loan Partner_working  Salary  Partner_salary  \\\n",
       "0            No         No             Yes   99300         70700.0   \n",
       "1           Yes         No             Yes   95500         70300.0   \n",
       "2            No         No             Yes   97300         60700.0   \n",
       "3           Yes         No             Yes   72500         70300.0   \n",
       "4            No         No             Yes   79700         60200.0   \n",
       "\n",
       "   Total_salary  Price Make  \n",
       "0        170000  61000  SUV  \n",
       "1        165800  61000  SUV  \n",
       "2        158000  57000  SUV  \n",
       "3        142800  61000  SUV  \n",
       "4        139900  57000  SUV  "
      ]
     },
     "execution_count": 5,
     "metadata": {},
     "output_type": "execute_result"
    }
   ],
   "source": [
    "df.head()"
   ]
  },
  {
   "cell_type": "code",
   "execution_count": null,
   "metadata": {
    "colab": {
     "base_uri": "https://localhost:8080/"
    },
    "executionInfo": {
     "elapsed": 8,
     "status": "ok",
     "timestamp": 1679327435329,
     "user": {
      "displayName": "Kirtika Rudra",
      "userId": "07472214669267027492"
     },
     "user_tz": -330
    },
    "id": "x1-sAPsMs6xs",
    "outputId": "db5f3393-b6bb-4b9a-c7f9-f591de1cbcd8"
   },
   "outputs": [
    {
     "data": {
      "text/plain": [
       "<bound method DataFrame.info of       Age  Gender Profession Marital_status      Education  No_of_Dependents  \\\n",
       "0      53    Male   Business        Married  Post Graduate                 4   \n",
       "1      53   Femal   Salaried        Married  Post Graduate                 4   \n",
       "2      53  Female   Salaried        Married  Post Graduate                 3   \n",
       "3      53  Female   Salaried        Married       Graduate                 2   \n",
       "4      53    Male   Salaried        Married  Post Graduate                 3   \n",
       "...   ...     ...        ...            ...            ...               ...   \n",
       "1576   22    Male   Salaried         Single       Graduate                 2   \n",
       "1577   22    Male   Business        Married       Graduate                 4   \n",
       "1578   22    Male   Business         Single       Graduate                 2   \n",
       "1579   22    Male   Business        Married       Graduate                 3   \n",
       "1580   22    Male   Salaried        Married       Graduate                 4   \n",
       "\n",
       "     Personal_loan House_loan Partner_working  Salary  Partner_salary  \\\n",
       "0               No         No             Yes   99300         70700.0   \n",
       "1              Yes         No             Yes   95500         70300.0   \n",
       "2               No         No             Yes   97300         60700.0   \n",
       "3              Yes         No             Yes   72500         70300.0   \n",
       "4               No         No             Yes   79700         60200.0   \n",
       "...            ...        ...             ...     ...             ...   \n",
       "1576            No        Yes              No   33300             0.0   \n",
       "1577            No         No              No   32000             NaN   \n",
       "1578            No        Yes              No   32900             0.0   \n",
       "1579           Yes        Yes              No   32200             NaN   \n",
       "1580            No         No              No   31600             0.0   \n",
       "\n",
       "      Total_salary  Price       Make  \n",
       "0           170000  61000        SUV  \n",
       "1           165800  61000        SUV  \n",
       "2           158000  57000        SUV  \n",
       "3           142800  61000        SUV  \n",
       "4           139900  57000        SUV  \n",
       "...            ...    ...        ...  \n",
       "1576         33300  27000  Hatchback  \n",
       "1577         32000  31000  Hatchback  \n",
       "1578         32900  30000  Hatchback  \n",
       "1579         32200  24000  Hatchback  \n",
       "1580         31600  31000  Hatchback  \n",
       "\n",
       "[1581 rows x 14 columns]>"
      ]
     },
     "execution_count": 6,
     "metadata": {},
     "output_type": "execute_result"
    }
   ],
   "source": [
    "df.info"
   ]
  },
  {
   "cell_type": "code",
   "execution_count": null,
   "metadata": {
    "colab": {
     "base_uri": "https://localhost:8080/"
    },
    "executionInfo": {
     "elapsed": 1215,
     "status": "ok",
     "timestamp": 1679327500335,
     "user": {
      "displayName": "Kirtika Rudra",
      "userId": "07472214669267027492"
     },
     "user_tz": -330
    },
    "id": "HnAfzsoAtxRI",
    "outputId": "02b3f068-5a3f-4071-e9ed-f8cc268693a7"
   },
   "outputs": [
    {
     "name": "stdout",
     "output_type": "stream",
     "text": [
      "Age 0\n",
      "Gender 53\n",
      "Profession 0\n",
      "Marital_status 0\n",
      "Education 0\n",
      "No_of_Dependents 0\n",
      "Personal_loan 0\n",
      "House_loan 0\n",
      "Partner_working 0\n",
      "Salary 0\n",
      "Partner_salary 106\n",
      "Total_salary 0\n",
      "Price 0\n",
      "Make 0\n"
     ]
    }
   ],
   "source": [
    "for i in df.columns:\n",
    "    print(i,df[i].isnull().sum())"
   ]
  },
  {
   "cell_type": "code",
   "execution_count": null,
   "metadata": {
    "colab": {
     "base_uri": "https://localhost:8080/",
     "height": 488
    },
    "executionInfo": {
     "elapsed": 629,
     "status": "ok",
     "timestamp": 1679498524828,
     "user": {
      "displayName": "Kirtika Rudra",
      "userId": "07472214669267027492"
     },
     "user_tz": -330
    },
    "id": "JPw03LocuA-P",
    "outputId": "90723d03-68f5-4142-8fe6-7689869015ad"
   },
   "outputs": [
    {
     "data": {
      "text/html": [
       "\n",
       "  <div id=\"df-8683ce2f-c021-4ddd-8dbc-a287cdab7b8a\">\n",
       "    <div class=\"colab-df-container\">\n",
       "      <div>\n",
       "<style scoped>\n",
       "    .dataframe tbody tr th:only-of-type {\n",
       "        vertical-align: middle;\n",
       "    }\n",
       "\n",
       "    .dataframe tbody tr th {\n",
       "        vertical-align: top;\n",
       "    }\n",
       "\n",
       "    .dataframe thead th {\n",
       "        text-align: right;\n",
       "    }\n",
       "</style>\n",
       "<table border=\"1\" class=\"dataframe\">\n",
       "  <thead>\n",
       "    <tr style=\"text-align: right;\">\n",
       "      <th></th>\n",
       "      <th>count</th>\n",
       "      <th>unique</th>\n",
       "      <th>top</th>\n",
       "      <th>freq</th>\n",
       "      <th>mean</th>\n",
       "      <th>std</th>\n",
       "      <th>min</th>\n",
       "      <th>25%</th>\n",
       "      <th>50%</th>\n",
       "      <th>75%</th>\n",
       "      <th>max</th>\n",
       "    </tr>\n",
       "  </thead>\n",
       "  <tbody>\n",
       "    <tr>\n",
       "      <th>Age</th>\n",
       "      <td>1581.0</td>\n",
       "      <td>NaN</td>\n",
       "      <td>NaN</td>\n",
       "      <td>NaN</td>\n",
       "      <td>31.922201</td>\n",
       "      <td>8.425978</td>\n",
       "      <td>22.0</td>\n",
       "      <td>25.0</td>\n",
       "      <td>29.0</td>\n",
       "      <td>38.0</td>\n",
       "      <td>54.0</td>\n",
       "    </tr>\n",
       "    <tr>\n",
       "      <th>Gender</th>\n",
       "      <td>1528</td>\n",
       "      <td>4</td>\n",
       "      <td>Male</td>\n",
       "      <td>1199</td>\n",
       "      <td>NaN</td>\n",
       "      <td>NaN</td>\n",
       "      <td>NaN</td>\n",
       "      <td>NaN</td>\n",
       "      <td>NaN</td>\n",
       "      <td>NaN</td>\n",
       "      <td>NaN</td>\n",
       "    </tr>\n",
       "    <tr>\n",
       "      <th>Profession</th>\n",
       "      <td>1581</td>\n",
       "      <td>2</td>\n",
       "      <td>Salaried</td>\n",
       "      <td>896</td>\n",
       "      <td>NaN</td>\n",
       "      <td>NaN</td>\n",
       "      <td>NaN</td>\n",
       "      <td>NaN</td>\n",
       "      <td>NaN</td>\n",
       "      <td>NaN</td>\n",
       "      <td>NaN</td>\n",
       "    </tr>\n",
       "    <tr>\n",
       "      <th>Marital_status</th>\n",
       "      <td>1581</td>\n",
       "      <td>2</td>\n",
       "      <td>Married</td>\n",
       "      <td>1443</td>\n",
       "      <td>NaN</td>\n",
       "      <td>NaN</td>\n",
       "      <td>NaN</td>\n",
       "      <td>NaN</td>\n",
       "      <td>NaN</td>\n",
       "      <td>NaN</td>\n",
       "      <td>NaN</td>\n",
       "    </tr>\n",
       "    <tr>\n",
       "      <th>Education</th>\n",
       "      <td>1581</td>\n",
       "      <td>2</td>\n",
       "      <td>Post Graduate</td>\n",
       "      <td>985</td>\n",
       "      <td>NaN</td>\n",
       "      <td>NaN</td>\n",
       "      <td>NaN</td>\n",
       "      <td>NaN</td>\n",
       "      <td>NaN</td>\n",
       "      <td>NaN</td>\n",
       "      <td>NaN</td>\n",
       "    </tr>\n",
       "    <tr>\n",
       "      <th>No_of_Dependents</th>\n",
       "      <td>1581.0</td>\n",
       "      <td>NaN</td>\n",
       "      <td>NaN</td>\n",
       "      <td>NaN</td>\n",
       "      <td>2.457938</td>\n",
       "      <td>0.943483</td>\n",
       "      <td>0.0</td>\n",
       "      <td>2.0</td>\n",
       "      <td>2.0</td>\n",
       "      <td>3.0</td>\n",
       "      <td>4.0</td>\n",
       "    </tr>\n",
       "    <tr>\n",
       "      <th>Personal_loan</th>\n",
       "      <td>1581</td>\n",
       "      <td>2</td>\n",
       "      <td>Yes</td>\n",
       "      <td>792</td>\n",
       "      <td>NaN</td>\n",
       "      <td>NaN</td>\n",
       "      <td>NaN</td>\n",
       "      <td>NaN</td>\n",
       "      <td>NaN</td>\n",
       "      <td>NaN</td>\n",
       "      <td>NaN</td>\n",
       "    </tr>\n",
       "    <tr>\n",
       "      <th>House_loan</th>\n",
       "      <td>1581</td>\n",
       "      <td>2</td>\n",
       "      <td>No</td>\n",
       "      <td>1054</td>\n",
       "      <td>NaN</td>\n",
       "      <td>NaN</td>\n",
       "      <td>NaN</td>\n",
       "      <td>NaN</td>\n",
       "      <td>NaN</td>\n",
       "      <td>NaN</td>\n",
       "      <td>NaN</td>\n",
       "    </tr>\n",
       "    <tr>\n",
       "      <th>Partner_working</th>\n",
       "      <td>1581</td>\n",
       "      <td>2</td>\n",
       "      <td>Yes</td>\n",
       "      <td>868</td>\n",
       "      <td>NaN</td>\n",
       "      <td>NaN</td>\n",
       "      <td>NaN</td>\n",
       "      <td>NaN</td>\n",
       "      <td>NaN</td>\n",
       "      <td>NaN</td>\n",
       "      <td>NaN</td>\n",
       "    </tr>\n",
       "    <tr>\n",
       "      <th>Salary</th>\n",
       "      <td>1581.0</td>\n",
       "      <td>NaN</td>\n",
       "      <td>NaN</td>\n",
       "      <td>NaN</td>\n",
       "      <td>60392.220114</td>\n",
       "      <td>14674.825044</td>\n",
       "      <td>30000.0</td>\n",
       "      <td>51900.0</td>\n",
       "      <td>59500.0</td>\n",
       "      <td>71800.0</td>\n",
       "      <td>99300.0</td>\n",
       "    </tr>\n",
       "    <tr>\n",
       "      <th>Partner_salary</th>\n",
       "      <td>1475.0</td>\n",
       "      <td>NaN</td>\n",
       "      <td>NaN</td>\n",
       "      <td>NaN</td>\n",
       "      <td>20225.559322</td>\n",
       "      <td>19573.149277</td>\n",
       "      <td>0.0</td>\n",
       "      <td>0.0</td>\n",
       "      <td>25600.0</td>\n",
       "      <td>38300.0</td>\n",
       "      <td>80500.0</td>\n",
       "    </tr>\n",
       "    <tr>\n",
       "      <th>Total_salary</th>\n",
       "      <td>1581.0</td>\n",
       "      <td>NaN</td>\n",
       "      <td>NaN</td>\n",
       "      <td>NaN</td>\n",
       "      <td>79625.996205</td>\n",
       "      <td>25545.857768</td>\n",
       "      <td>30000.0</td>\n",
       "      <td>60500.0</td>\n",
       "      <td>78000.0</td>\n",
       "      <td>95900.0</td>\n",
       "      <td>171000.0</td>\n",
       "    </tr>\n",
       "    <tr>\n",
       "      <th>Price</th>\n",
       "      <td>1581.0</td>\n",
       "      <td>NaN</td>\n",
       "      <td>NaN</td>\n",
       "      <td>NaN</td>\n",
       "      <td>35597.72296</td>\n",
       "      <td>13633.636545</td>\n",
       "      <td>18000.0</td>\n",
       "      <td>25000.0</td>\n",
       "      <td>31000.0</td>\n",
       "      <td>47000.0</td>\n",
       "      <td>70000.0</td>\n",
       "    </tr>\n",
       "    <tr>\n",
       "      <th>Make</th>\n",
       "      <td>1581</td>\n",
       "      <td>3</td>\n",
       "      <td>Sedan</td>\n",
       "      <td>702</td>\n",
       "      <td>NaN</td>\n",
       "      <td>NaN</td>\n",
       "      <td>NaN</td>\n",
       "      <td>NaN</td>\n",
       "      <td>NaN</td>\n",
       "      <td>NaN</td>\n",
       "      <td>NaN</td>\n",
       "    </tr>\n",
       "  </tbody>\n",
       "</table>\n",
       "</div>\n",
       "      <button class=\"colab-df-convert\" onclick=\"convertToInteractive('df-8683ce2f-c021-4ddd-8dbc-a287cdab7b8a')\"\n",
       "              title=\"Convert this dataframe to an interactive table.\"\n",
       "              style=\"display:none;\">\n",
       "        \n",
       "  <svg xmlns=\"http://www.w3.org/2000/svg\" height=\"24px\"viewBox=\"0 0 24 24\"\n",
       "       width=\"24px\">\n",
       "    <path d=\"M0 0h24v24H0V0z\" fill=\"none\"/>\n",
       "    <path d=\"M18.56 5.44l.94 2.06.94-2.06 2.06-.94-2.06-.94-.94-2.06-.94 2.06-2.06.94zm-11 1L8.5 8.5l.94-2.06 2.06-.94-2.06-.94L8.5 2.5l-.94 2.06-2.06.94zm10 10l.94 2.06.94-2.06 2.06-.94-2.06-.94-.94-2.06-.94 2.06-2.06.94z\"/><path d=\"M17.41 7.96l-1.37-1.37c-.4-.4-.92-.59-1.43-.59-.52 0-1.04.2-1.43.59L10.3 9.45l-7.72 7.72c-.78.78-.78 2.05 0 2.83L4 21.41c.39.39.9.59 1.41.59.51 0 1.02-.2 1.41-.59l7.78-7.78 2.81-2.81c.8-.78.8-2.07 0-2.86zM5.41 20L4 18.59l7.72-7.72 1.47 1.35L5.41 20z\"/>\n",
       "  </svg>\n",
       "      </button>\n",
       "      \n",
       "  <style>\n",
       "    .colab-df-container {\n",
       "      display:flex;\n",
       "      flex-wrap:wrap;\n",
       "      gap: 12px;\n",
       "    }\n",
       "\n",
       "    .colab-df-convert {\n",
       "      background-color: #E8F0FE;\n",
       "      border: none;\n",
       "      border-radius: 50%;\n",
       "      cursor: pointer;\n",
       "      display: none;\n",
       "      fill: #1967D2;\n",
       "      height: 32px;\n",
       "      padding: 0 0 0 0;\n",
       "      width: 32px;\n",
       "    }\n",
       "\n",
       "    .colab-df-convert:hover {\n",
       "      background-color: #E2EBFA;\n",
       "      box-shadow: 0px 1px 2px rgba(60, 64, 67, 0.3), 0px 1px 3px 1px rgba(60, 64, 67, 0.15);\n",
       "      fill: #174EA6;\n",
       "    }\n",
       "\n",
       "    [theme=dark] .colab-df-convert {\n",
       "      background-color: #3B4455;\n",
       "      fill: #D2E3FC;\n",
       "    }\n",
       "\n",
       "    [theme=dark] .colab-df-convert:hover {\n",
       "      background-color: #434B5C;\n",
       "      box-shadow: 0px 1px 3px 1px rgba(0, 0, 0, 0.15);\n",
       "      filter: drop-shadow(0px 1px 2px rgba(0, 0, 0, 0.3));\n",
       "      fill: #FFFFFF;\n",
       "    }\n",
       "  </style>\n",
       "\n",
       "      <script>\n",
       "        const buttonEl =\n",
       "          document.querySelector('#df-8683ce2f-c021-4ddd-8dbc-a287cdab7b8a button.colab-df-convert');\n",
       "        buttonEl.style.display =\n",
       "          google.colab.kernel.accessAllowed ? 'block' : 'none';\n",
       "\n",
       "        async function convertToInteractive(key) {\n",
       "          const element = document.querySelector('#df-8683ce2f-c021-4ddd-8dbc-a287cdab7b8a');\n",
       "          const dataTable =\n",
       "            await google.colab.kernel.invokeFunction('convertToInteractive',\n",
       "                                                     [key], {});\n",
       "          if (!dataTable) return;\n",
       "\n",
       "          const docLinkHtml = 'Like what you see? Visit the ' +\n",
       "            '<a target=\"_blank\" href=https://colab.research.google.com/notebooks/data_table.ipynb>data table notebook</a>'\n",
       "            + ' to learn more about interactive tables.';\n",
       "          element.innerHTML = '';\n",
       "          dataTable['output_type'] = 'display_data';\n",
       "          await google.colab.output.renderOutput(dataTable, element);\n",
       "          const docLink = document.createElement('div');\n",
       "          docLink.innerHTML = docLinkHtml;\n",
       "          element.appendChild(docLink);\n",
       "        }\n",
       "      </script>\n",
       "    </div>\n",
       "  </div>\n",
       "  "
      ],
      "text/plain": [
       "                   count unique            top  freq          mean  \\\n",
       "Age               1581.0    NaN            NaN   NaN     31.922201   \n",
       "Gender              1528      4           Male  1199           NaN   \n",
       "Profession          1581      2       Salaried   896           NaN   \n",
       "Marital_status      1581      2        Married  1443           NaN   \n",
       "Education           1581      2  Post Graduate   985           NaN   \n",
       "No_of_Dependents  1581.0    NaN            NaN   NaN      2.457938   \n",
       "Personal_loan       1581      2            Yes   792           NaN   \n",
       "House_loan          1581      2             No  1054           NaN   \n",
       "Partner_working     1581      2            Yes   868           NaN   \n",
       "Salary            1581.0    NaN            NaN   NaN  60392.220114   \n",
       "Partner_salary    1475.0    NaN            NaN   NaN  20225.559322   \n",
       "Total_salary      1581.0    NaN            NaN   NaN  79625.996205   \n",
       "Price             1581.0    NaN            NaN   NaN   35597.72296   \n",
       "Make                1581      3          Sedan   702           NaN   \n",
       "\n",
       "                           std      min      25%      50%      75%       max  \n",
       "Age                   8.425978     22.0     25.0     29.0     38.0      54.0  \n",
       "Gender                     NaN      NaN      NaN      NaN      NaN       NaN  \n",
       "Profession                 NaN      NaN      NaN      NaN      NaN       NaN  \n",
       "Marital_status             NaN      NaN      NaN      NaN      NaN       NaN  \n",
       "Education                  NaN      NaN      NaN      NaN      NaN       NaN  \n",
       "No_of_Dependents      0.943483      0.0      2.0      2.0      3.0       4.0  \n",
       "Personal_loan              NaN      NaN      NaN      NaN      NaN       NaN  \n",
       "House_loan                 NaN      NaN      NaN      NaN      NaN       NaN  \n",
       "Partner_working            NaN      NaN      NaN      NaN      NaN       NaN  \n",
       "Salary            14674.825044  30000.0  51900.0  59500.0  71800.0   99300.0  \n",
       "Partner_salary    19573.149277      0.0      0.0  25600.0  38300.0   80500.0  \n",
       "Total_salary      25545.857768  30000.0  60500.0  78000.0  95900.0  171000.0  \n",
       "Price             13633.636545  18000.0  25000.0  31000.0  47000.0   70000.0  \n",
       "Make                       NaN      NaN      NaN      NaN      NaN       NaN  "
      ]
     },
     "execution_count": 11,
     "metadata": {},
     "output_type": "execute_result"
    }
   ],
   "source": [
    "df.describe(include='all').T"
   ]
  },
  {
   "cell_type": "code",
   "execution_count": null,
   "metadata": {
    "colab": {
     "base_uri": "https://localhost:8080/"
    },
    "executionInfo": {
     "elapsed": 436,
     "status": "ok",
     "timestamp": 1679761381016,
     "user": {
      "displayName": "Kirtika Rudra",
      "userId": "07472214669267027492"
     },
     "user_tz": -330
    },
    "id": "fJr7U1A0zCUX",
    "outputId": "785819f1-a181-4fb0-9b1b-bfd82a41493f"
   },
   "outputs": [
    {
     "name": "stdout",
     "output_type": "stream",
     "text": [
      "<class 'pandas.core.frame.DataFrame'>\n",
      "RangeIndex: 1581 entries, 0 to 1580\n",
      "Data columns (total 14 columns):\n",
      " #   Column            Non-Null Count  Dtype  \n",
      "---  ------            --------------  -----  \n",
      " 0   Age               1581 non-null   int64  \n",
      " 1   Gender            1528 non-null   object \n",
      " 2   Profession        1581 non-null   object \n",
      " 3   Marital_status    1581 non-null   object \n",
      " 4   Education         1581 non-null   object \n",
      " 5   No_of_Dependents  1581 non-null   int64  \n",
      " 6   Personal_loan     1581 non-null   object \n",
      " 7   House_loan        1581 non-null   object \n",
      " 8   Partner_working   1581 non-null   object \n",
      " 9   Salary            1581 non-null   int64  \n",
      " 10  Partner_salary    1475 non-null   float64\n",
      " 11  Total_salary      1581 non-null   int64  \n",
      " 12  Price             1581 non-null   int64  \n",
      " 13  Make              1581 non-null   object \n",
      "dtypes: float64(1), int64(5), object(8)\n",
      "memory usage: 173.0+ KB\n"
     ]
    }
   ],
   "source": [
    "df.info()"
   ]
  },
  {
   "cell_type": "code",
   "execution_count": null,
   "metadata": {
    "colab": {
     "base_uri": "https://localhost:8080/"
    },
    "executionInfo": {
     "elapsed": 390,
     "status": "ok",
     "timestamp": 1679761385455,
     "user": {
      "displayName": "Kirtika Rudra",
      "userId": "07472214669267027492"
     },
     "user_tz": -330
    },
    "id": "R-x1W7i-wT9j",
    "outputId": "a00ddd9d-d86d-4574-9700-99412af7ca00"
   },
   "outputs": [
    {
     "data": {
      "text/plain": [
       "Male      1199\n",
       "Female     327\n",
       "Femal        1\n",
       "Femle        1\n",
       "Name: Gender, dtype: int64"
      ]
     },
     "execution_count": 7,
     "metadata": {},
     "output_type": "execute_result"
    }
   ],
   "source": [
    "df['Gender'].value_counts()"
   ]
  },
  {
   "cell_type": "code",
   "execution_count": null,
   "metadata": {
    "colab": {
     "base_uri": "https://localhost:8080/"
    },
    "executionInfo": {
     "elapsed": 510,
     "status": "ok",
     "timestamp": 1679496749116,
     "user": {
      "displayName": "Kirtika Rudra",
      "userId": "07472214669267027492"
     },
     "user_tz": -330
    },
    "id": "xOzIX2vKy1hT",
    "outputId": "8bec369f-91bb-41d2-a1b4-158f1dcd3ed5"
   },
   "outputs": [
    {
     "data": {
      "text/plain": [
       "0.0        623\n",
       "40500.0     29\n",
       "40200.0     27\n",
       "40100.0     25\n",
       "40000.0     25\n",
       "          ... \n",
       "45800.0      1\n",
       "27300.0      1\n",
       "22900.0      1\n",
       "23100.0      1\n",
       "35000.0      1\n",
       "Name: Partner_salary, Length: 149, dtype: int64"
      ]
     },
     "execution_count": 9,
     "metadata": {},
     "output_type": "execute_result"
    }
   ],
   "source": [
    "df['Partner_salary'].value_counts()"
   ]
  },
  {
   "cell_type": "code",
   "execution_count": null,
   "metadata": {
    "colab": {
     "base_uri": "https://localhost:8080/",
     "height": 130
    },
    "executionInfo": {
     "elapsed": 6,
     "status": "ok",
     "timestamp": 1679498711198,
     "user": {
      "displayName": "Kirtika Rudra",
      "userId": "07472214669267027492"
     },
     "user_tz": -330
    },
    "id": "69mlGJAxzpdj",
    "outputId": "aea6d4a7-1e7f-4e97-822a-7cae73a7b491"
   },
   "outputs": [
    {
     "name": "stdout",
     "output_type": "stream",
     "text": [
      "Number of duplicate rows = 0\n"
     ]
    },
    {
     "data": {
      "text/html": [
       "\n",
       "  <div id=\"df-5623148e-9722-4ab3-a787-f88cc101c7bc\">\n",
       "    <div class=\"colab-df-container\">\n",
       "      <div>\n",
       "<style scoped>\n",
       "    .dataframe tbody tr th:only-of-type {\n",
       "        vertical-align: middle;\n",
       "    }\n",
       "\n",
       "    .dataframe tbody tr th {\n",
       "        vertical-align: top;\n",
       "    }\n",
       "\n",
       "    .dataframe thead th {\n",
       "        text-align: right;\n",
       "    }\n",
       "</style>\n",
       "<table border=\"1\" class=\"dataframe\">\n",
       "  <thead>\n",
       "    <tr style=\"text-align: right;\">\n",
       "      <th></th>\n",
       "      <th>Age</th>\n",
       "      <th>Gender</th>\n",
       "      <th>Profession</th>\n",
       "      <th>Marital_status</th>\n",
       "      <th>Education</th>\n",
       "      <th>No_of_Dependents</th>\n",
       "      <th>Personal_loan</th>\n",
       "      <th>House_loan</th>\n",
       "      <th>Partner_working</th>\n",
       "      <th>Salary</th>\n",
       "      <th>Partner_salary</th>\n",
       "      <th>Total_salary</th>\n",
       "      <th>Price</th>\n",
       "      <th>Make</th>\n",
       "    </tr>\n",
       "  </thead>\n",
       "  <tbody>\n",
       "  </tbody>\n",
       "</table>\n",
       "</div>\n",
       "      <button class=\"colab-df-convert\" onclick=\"convertToInteractive('df-5623148e-9722-4ab3-a787-f88cc101c7bc')\"\n",
       "              title=\"Convert this dataframe to an interactive table.\"\n",
       "              style=\"display:none;\">\n",
       "        \n",
       "  <svg xmlns=\"http://www.w3.org/2000/svg\" height=\"24px\"viewBox=\"0 0 24 24\"\n",
       "       width=\"24px\">\n",
       "    <path d=\"M0 0h24v24H0V0z\" fill=\"none\"/>\n",
       "    <path d=\"M18.56 5.44l.94 2.06.94-2.06 2.06-.94-2.06-.94-.94-2.06-.94 2.06-2.06.94zm-11 1L8.5 8.5l.94-2.06 2.06-.94-2.06-.94L8.5 2.5l-.94 2.06-2.06.94zm10 10l.94 2.06.94-2.06 2.06-.94-2.06-.94-.94-2.06-.94 2.06-2.06.94z\"/><path d=\"M17.41 7.96l-1.37-1.37c-.4-.4-.92-.59-1.43-.59-.52 0-1.04.2-1.43.59L10.3 9.45l-7.72 7.72c-.78.78-.78 2.05 0 2.83L4 21.41c.39.39.9.59 1.41.59.51 0 1.02-.2 1.41-.59l7.78-7.78 2.81-2.81c.8-.78.8-2.07 0-2.86zM5.41 20L4 18.59l7.72-7.72 1.47 1.35L5.41 20z\"/>\n",
       "  </svg>\n",
       "      </button>\n",
       "      \n",
       "  <style>\n",
       "    .colab-df-container {\n",
       "      display:flex;\n",
       "      flex-wrap:wrap;\n",
       "      gap: 12px;\n",
       "    }\n",
       "\n",
       "    .colab-df-convert {\n",
       "      background-color: #E8F0FE;\n",
       "      border: none;\n",
       "      border-radius: 50%;\n",
       "      cursor: pointer;\n",
       "      display: none;\n",
       "      fill: #1967D2;\n",
       "      height: 32px;\n",
       "      padding: 0 0 0 0;\n",
       "      width: 32px;\n",
       "    }\n",
       "\n",
       "    .colab-df-convert:hover {\n",
       "      background-color: #E2EBFA;\n",
       "      box-shadow: 0px 1px 2px rgba(60, 64, 67, 0.3), 0px 1px 3px 1px rgba(60, 64, 67, 0.15);\n",
       "      fill: #174EA6;\n",
       "    }\n",
       "\n",
       "    [theme=dark] .colab-df-convert {\n",
       "      background-color: #3B4455;\n",
       "      fill: #D2E3FC;\n",
       "    }\n",
       "\n",
       "    [theme=dark] .colab-df-convert:hover {\n",
       "      background-color: #434B5C;\n",
       "      box-shadow: 0px 1px 3px 1px rgba(0, 0, 0, 0.15);\n",
       "      filter: drop-shadow(0px 1px 2px rgba(0, 0, 0, 0.3));\n",
       "      fill: #FFFFFF;\n",
       "    }\n",
       "  </style>\n",
       "\n",
       "      <script>\n",
       "        const buttonEl =\n",
       "          document.querySelector('#df-5623148e-9722-4ab3-a787-f88cc101c7bc button.colab-df-convert');\n",
       "        buttonEl.style.display =\n",
       "          google.colab.kernel.accessAllowed ? 'block' : 'none';\n",
       "\n",
       "        async function convertToInteractive(key) {\n",
       "          const element = document.querySelector('#df-5623148e-9722-4ab3-a787-f88cc101c7bc');\n",
       "          const dataTable =\n",
       "            await google.colab.kernel.invokeFunction('convertToInteractive',\n",
       "                                                     [key], {});\n",
       "          if (!dataTable) return;\n",
       "\n",
       "          const docLinkHtml = 'Like what you see? Visit the ' +\n",
       "            '<a target=\"_blank\" href=https://colab.research.google.com/notebooks/data_table.ipynb>data table notebook</a>'\n",
       "            + ' to learn more about interactive tables.';\n",
       "          element.innerHTML = '';\n",
       "          dataTable['output_type'] = 'display_data';\n",
       "          await google.colab.output.renderOutput(dataTable, element);\n",
       "          const docLink = document.createElement('div');\n",
       "          docLink.innerHTML = docLinkHtml;\n",
       "          element.appendChild(docLink);\n",
       "        }\n",
       "      </script>\n",
       "    </div>\n",
       "  </div>\n",
       "  "
      ],
      "text/plain": [
       "Empty DataFrame\n",
       "Columns: [Age, Gender, Profession, Marital_status, Education, No_of_Dependents, Personal_loan, House_loan, Partner_working, Salary, Partner_salary, Total_salary, Price, Make]\n",
       "Index: []"
      ]
     },
     "execution_count": 12,
     "metadata": {},
     "output_type": "execute_result"
    }
   ],
   "source": [
    "# Are there any duplicates?\n",
    "dups = df.duplicated()\n",
    "print('Number of duplicate rows = %d' % (dups.sum()))\n",
    "df[dups]"
   ]
  },
  {
   "cell_type": "markdown",
   "metadata": {
    "id": "vNVX3z_zBvzw"
   },
   "source": [
    "#Data PreProcessing"
   ]
  },
  {
   "cell_type": "markdown",
   "metadata": {
    "id": "Txvbk6v8IzK0"
   },
   "source": [
    "Detecting Bad values"
   ]
  },
  {
   "cell_type": "code",
   "execution_count": null,
   "metadata": {
    "colab": {
     "base_uri": "https://localhost:8080/"
    },
    "executionInfo": {
     "elapsed": 393,
     "status": "ok",
     "timestamp": 1679761391132,
     "user": {
      "displayName": "Kirtika Rudra",
      "userId": "07472214669267027492"
     },
     "user_tz": -330
    },
    "id": "U0J6uTtMI1oe",
    "outputId": "c924a3ae-94fe-4c56-d3ee-7cae7bcceaf5"
   },
   "outputs": [
    {
     "name": "stdout",
     "output_type": "stream",
     "text": [
      "<class 'pandas.core.frame.DataFrame'>\n",
      "RangeIndex: 1581 entries, 0 to 1580\n",
      "Data columns (total 14 columns):\n",
      " #   Column            Non-Null Count  Dtype  \n",
      "---  ------            --------------  -----  \n",
      " 0   Age               1581 non-null   int64  \n",
      " 1   Gender            1528 non-null   object \n",
      " 2   Profession        1581 non-null   object \n",
      " 3   Marital_status    1581 non-null   object \n",
      " 4   Education         1581 non-null   object \n",
      " 5   No_of_Dependents  1581 non-null   int64  \n",
      " 6   Personal_loan     1581 non-null   object \n",
      " 7   House_loan        1581 non-null   object \n",
      " 8   Partner_working   1581 non-null   object \n",
      " 9   Salary            1581 non-null   int64  \n",
      " 10  Partner_salary    1475 non-null   float64\n",
      " 11  Total_salary      1581 non-null   int64  \n",
      " 12  Price             1581 non-null   int64  \n",
      " 13  Make              1581 non-null   object \n",
      "dtypes: float64(1), int64(5), object(8)\n",
      "memory usage: 173.0+ KB\n"
     ]
    }
   ],
   "source": [
    "df.info()"
   ]
  },
  {
   "cell_type": "markdown",
   "metadata": {
    "id": "6vHG_aaPI8O2"
   },
   "source": [
    "All the columns have valid data type, hence no bad values.\n"
   ]
  },
  {
   "cell_type": "markdown",
   "metadata": {
    "id": "KaOgkeWWJDY2"
   },
   "source": []
  },
  {
   "cell_type": "code",
   "execution_count": null,
   "metadata": {
    "colab": {
     "base_uri": "https://localhost:8080/"
    },
    "executionInfo": {
     "elapsed": 760,
     "status": "ok",
     "timestamp": 1679761401437,
     "user": {
      "displayName": "Kirtika Rudra",
      "userId": "07472214669267027492"
     },
     "user_tz": -330
    },
    "id": "5IJ-3sk-7IT8",
    "outputId": "b7483949-ac57-473a-be4b-e4dc782acd7f"
   },
   "outputs": [
    {
     "name": "stdout",
     "output_type": "stream",
     "text": [
      "   Age Gender Profession Marital_status      Education  No_of_Dependents  \\\n",
      "1   53  Femal   Salaried        Married  Post Graduate                 4   \n",
      "\n",
      "  Personal_loan House_loan Partner_working  Salary  Partner_salary  \\\n",
      "1           Yes         No             Yes   95500         70300.0   \n",
      "\n",
      "   Total_salary  Price Make  \n",
      "1        165800  61000  SUV  \n"
     ]
    }
   ],
   "source": [
    "row = df[df['Gender'] == 'Femal']\n",
    "print(row)"
   ]
  },
  {
   "cell_type": "code",
   "execution_count": null,
   "metadata": {
    "colab": {
     "base_uri": "https://localhost:8080/"
    },
    "executionInfo": {
     "elapsed": 549,
     "status": "ok",
     "timestamp": 1679842306091,
     "user": {
      "displayName": "Kirtika Rudra",
      "userId": "07472214669267027492"
     },
     "user_tz": -330
    },
    "id": "UKGgvHi7-aVu",
    "outputId": "27933c14-dc83-4717-9593-d2f59bb0edcf"
   },
   "outputs": [
    {
     "name": "stdout",
     "output_type": "stream",
     "text": [
      "      Age  Gender Profession Marital_status      Education  No_of_Dependents  \\\n",
      "0      53    Male   Business        Married  Post Graduate                 4   \n",
      "1      53  Female   Salaried        Married  Post Graduate                 4   \n",
      "2      53  Female   Salaried        Married  Post Graduate                 3   \n",
      "3      53  Female   Salaried        Married       Graduate                 2   \n",
      "4      53    Male   Salaried        Married  Post Graduate                 3   \n",
      "...   ...     ...        ...            ...            ...               ...   \n",
      "1576   22    Male   Salaried         Single       Graduate                 2   \n",
      "1577   22    Male   Business        Married       Graduate                 4   \n",
      "1578   22    Male   Business         Single       Graduate                 2   \n",
      "1579   22    Male   Business        Married       Graduate                 3   \n",
      "1580   22    Male   Salaried        Married       Graduate                 4   \n",
      "\n",
      "     Personal_loan House_loan Partner_working  Salary  Partner_salary  \\\n",
      "0               No         No             Yes   99300         70700.0   \n",
      "1              Yes         No             Yes   95500         70300.0   \n",
      "2               No         No             Yes   97300         60700.0   \n",
      "3              Yes         No             Yes   72500         70300.0   \n",
      "4               No         No             Yes   79700         60200.0   \n",
      "...            ...        ...             ...     ...             ...   \n",
      "1576            No        Yes              No   33300             0.0   \n",
      "1577            No         No              No   32000             NaN   \n",
      "1578            No        Yes              No   32900             0.0   \n",
      "1579           Yes        Yes              No   32200             NaN   \n",
      "1580            No         No              No   31600             0.0   \n",
      "\n",
      "      Total_salary  Price       Make  \n",
      "0           170000  61000        SUV  \n",
      "1           165800  61000        SUV  \n",
      "2           158000  57000        SUV  \n",
      "3           142800  61000        SUV  \n",
      "4           139900  57000        SUV  \n",
      "...            ...    ...        ...  \n",
      "1576         33300  27000  Hatchback  \n",
      "1577         32000  31000  Hatchback  \n",
      "1578         32900  30000  Hatchback  \n",
      "1579         32200  24000  Hatchback  \n",
      "1580         31600  31000  Hatchback  \n",
      "\n",
      "[1581 rows x 14 columns]\n"
     ]
    }
   ],
   "source": [
    "df.loc[df['Gender'] == 'Femal', 'Gender'] = 'Female'\n",
    "print (df)"
   ]
  },
  {
   "cell_type": "code",
   "execution_count": null,
   "metadata": {
    "colab": {
     "base_uri": "https://localhost:8080/"
    },
    "executionInfo": {
     "elapsed": 445,
     "status": "ok",
     "timestamp": 1679842308882,
     "user": {
      "displayName": "Kirtika Rudra",
      "userId": "07472214669267027492"
     },
     "user_tz": -330
    },
    "id": "J_MSd9WJ_MJU",
    "outputId": "f5ced816-44cf-48cc-d228-136c277efe1d"
   },
   "outputs": [
    {
     "name": "stdout",
     "output_type": "stream",
     "text": [
      "      Age  Gender Profession Marital_status      Education  No_of_Dependents  \\\n",
      "0      53    Male   Business        Married  Post Graduate                 4   \n",
      "1      53  Female   Salaried        Married  Post Graduate                 4   \n",
      "2      53  Female   Salaried        Married  Post Graduate                 3   \n",
      "3      53  Female   Salaried        Married       Graduate                 2   \n",
      "4      53    Male   Salaried        Married  Post Graduate                 3   \n",
      "...   ...     ...        ...            ...            ...               ...   \n",
      "1576   22    Male   Salaried         Single       Graduate                 2   \n",
      "1577   22    Male   Business        Married       Graduate                 4   \n",
      "1578   22    Male   Business         Single       Graduate                 2   \n",
      "1579   22    Male   Business        Married       Graduate                 3   \n",
      "1580   22    Male   Salaried        Married       Graduate                 4   \n",
      "\n",
      "     Personal_loan House_loan Partner_working  Salary  Partner_salary  \\\n",
      "0               No         No             Yes   99300         70700.0   \n",
      "1              Yes         No             Yes   95500         70300.0   \n",
      "2               No         No             Yes   97300         60700.0   \n",
      "3              Yes         No             Yes   72500         70300.0   \n",
      "4               No         No             Yes   79700         60200.0   \n",
      "...            ...        ...             ...     ...             ...   \n",
      "1576            No        Yes              No   33300             0.0   \n",
      "1577            No         No              No   32000             NaN   \n",
      "1578            No        Yes              No   32900             0.0   \n",
      "1579           Yes        Yes              No   32200             NaN   \n",
      "1580            No         No              No   31600             0.0   \n",
      "\n",
      "      Total_salary  Price       Make  \n",
      "0           170000  61000        SUV  \n",
      "1           165800  61000        SUV  \n",
      "2           158000  57000        SUV  \n",
      "3           142800  61000        SUV  \n",
      "4           139900  57000        SUV  \n",
      "...            ...    ...        ...  \n",
      "1576         33300  27000  Hatchback  \n",
      "1577         32000  31000  Hatchback  \n",
      "1578         32900  30000  Hatchback  \n",
      "1579         32200  24000  Hatchback  \n",
      "1580         31600  31000  Hatchback  \n",
      "\n",
      "[1581 rows x 14 columns]\n"
     ]
    }
   ],
   "source": [
    "row = df[df['Gender'] == 'Femle']\n",
    "df.loc[df['Gender'] == 'Femle', 'Gender'] = 'Female'\n",
    "print (df)"
   ]
  },
  {
   "cell_type": "code",
   "execution_count": null,
   "metadata": {
    "colab": {
     "base_uri": "https://localhost:8080/"
    },
    "executionInfo": {
     "elapsed": 377,
     "status": "ok",
     "timestamp": 1679820231228,
     "user": {
      "displayName": "Kirtika Rudra",
      "userId": "07472214669267027492"
     },
     "user_tz": -330
    },
    "id": "PmTLinva_ZK9",
    "outputId": "fbb93b4f-60cb-45b5-dd05-8bd82a1b0c6c"
   },
   "outputs": [
    {
     "data": {
      "text/plain": [
       "Male      1199\n",
       "Female     329\n",
       "Name: Gender, dtype: int64"
      ]
     },
     "execution_count": 7,
     "metadata": {},
     "output_type": "execute_result"
    }
   ],
   "source": [
    "df['Gender'].value_counts()"
   ]
  },
  {
   "cell_type": "code",
   "execution_count": null,
   "metadata": {
    "colab": {
     "base_uri": "https://localhost:8080/"
    },
    "executionInfo": {
     "elapsed": 7,
     "status": "ok",
     "timestamp": 1679820233943,
     "user": {
      "displayName": "Kirtika Rudra",
      "userId": "07472214669267027492"
     },
     "user_tz": -330
    },
    "id": "iBsG_1FJQoBb",
    "outputId": "0c9fd63c-5267-4b10-fd39-0d3ba32cd1a5"
   },
   "outputs": [
    {
     "data": {
      "text/plain": [
       "Age                   0\n",
       "Gender               53\n",
       "Profession            0\n",
       "Marital_status        0\n",
       "Education             0\n",
       "No_of_Dependents      0\n",
       "Personal_loan         0\n",
       "House_loan            0\n",
       "Partner_working       0\n",
       "Salary                0\n",
       "Partner_salary      106\n",
       "Total_salary          0\n",
       "Price                 0\n",
       "Make                  0\n",
       "dtype: int64"
      ]
     },
     "execution_count": 8,
     "metadata": {},
     "output_type": "execute_result"
    }
   ],
   "source": [
    "df.isnull().sum()"
   ]
  },
  {
   "cell_type": "code",
   "execution_count": null,
   "metadata": {
    "colab": {
     "base_uri": "https://localhost:8080/",
     "height": 423
    },
    "executionInfo": {
     "elapsed": 4,
     "status": "ok",
     "timestamp": 1679842313834,
     "user": {
      "displayName": "Kirtika Rudra",
      "userId": "07472214669267027492"
     },
     "user_tz": -330
    },
    "id": "QRujo5QtRCP1",
    "outputId": "34dddbc0-9975-4ab2-ef34-d20b51d6a412"
   },
   "outputs": [
    {
     "data": {
      "text/html": [
       "\n",
       "  <div id=\"df-e7182e6c-e8a5-43b4-a3a6-8208351f2a01\">\n",
       "    <div class=\"colab-df-container\">\n",
       "      <div>\n",
       "<style scoped>\n",
       "    .dataframe tbody tr th:only-of-type {\n",
       "        vertical-align: middle;\n",
       "    }\n",
       "\n",
       "    .dataframe tbody tr th {\n",
       "        vertical-align: top;\n",
       "    }\n",
       "\n",
       "    .dataframe thead th {\n",
       "        text-align: right;\n",
       "    }\n",
       "</style>\n",
       "<table border=\"1\" class=\"dataframe\">\n",
       "  <thead>\n",
       "    <tr style=\"text-align: right;\">\n",
       "      <th></th>\n",
       "      <th>Age</th>\n",
       "      <th>Gender</th>\n",
       "      <th>Profession</th>\n",
       "      <th>Marital_status</th>\n",
       "      <th>Education</th>\n",
       "      <th>No_of_Dependents</th>\n",
       "      <th>Personal_loan</th>\n",
       "      <th>House_loan</th>\n",
       "      <th>Partner_working</th>\n",
       "      <th>Salary</th>\n",
       "      <th>Partner_salary</th>\n",
       "      <th>Total_salary</th>\n",
       "      <th>Price</th>\n",
       "      <th>Make</th>\n",
       "    </tr>\n",
       "  </thead>\n",
       "  <tbody>\n",
       "    <tr>\n",
       "      <th>0</th>\n",
       "      <td>53</td>\n",
       "      <td>Male</td>\n",
       "      <td>Business</td>\n",
       "      <td>Married</td>\n",
       "      <td>Post Graduate</td>\n",
       "      <td>4</td>\n",
       "      <td>No</td>\n",
       "      <td>No</td>\n",
       "      <td>Yes</td>\n",
       "      <td>99300</td>\n",
       "      <td>70700.0</td>\n",
       "      <td>170000</td>\n",
       "      <td>61000</td>\n",
       "      <td>SUV</td>\n",
       "    </tr>\n",
       "    <tr>\n",
       "      <th>1</th>\n",
       "      <td>53</td>\n",
       "      <td>Female</td>\n",
       "      <td>Salaried</td>\n",
       "      <td>Married</td>\n",
       "      <td>Post Graduate</td>\n",
       "      <td>4</td>\n",
       "      <td>Yes</td>\n",
       "      <td>No</td>\n",
       "      <td>Yes</td>\n",
       "      <td>95500</td>\n",
       "      <td>70300.0</td>\n",
       "      <td>165800</td>\n",
       "      <td>61000</td>\n",
       "      <td>SUV</td>\n",
       "    </tr>\n",
       "    <tr>\n",
       "      <th>2</th>\n",
       "      <td>53</td>\n",
       "      <td>Female</td>\n",
       "      <td>Salaried</td>\n",
       "      <td>Married</td>\n",
       "      <td>Post Graduate</td>\n",
       "      <td>3</td>\n",
       "      <td>No</td>\n",
       "      <td>No</td>\n",
       "      <td>Yes</td>\n",
       "      <td>97300</td>\n",
       "      <td>60700.0</td>\n",
       "      <td>158000</td>\n",
       "      <td>57000</td>\n",
       "      <td>SUV</td>\n",
       "    </tr>\n",
       "    <tr>\n",
       "      <th>3</th>\n",
       "      <td>53</td>\n",
       "      <td>Female</td>\n",
       "      <td>Salaried</td>\n",
       "      <td>Married</td>\n",
       "      <td>Graduate</td>\n",
       "      <td>2</td>\n",
       "      <td>Yes</td>\n",
       "      <td>No</td>\n",
       "      <td>Yes</td>\n",
       "      <td>72500</td>\n",
       "      <td>70300.0</td>\n",
       "      <td>142800</td>\n",
       "      <td>61000</td>\n",
       "      <td>SUV</td>\n",
       "    </tr>\n",
       "    <tr>\n",
       "      <th>4</th>\n",
       "      <td>53</td>\n",
       "      <td>Male</td>\n",
       "      <td>Salaried</td>\n",
       "      <td>Married</td>\n",
       "      <td>Post Graduate</td>\n",
       "      <td>3</td>\n",
       "      <td>No</td>\n",
       "      <td>No</td>\n",
       "      <td>Yes</td>\n",
       "      <td>79700</td>\n",
       "      <td>60200.0</td>\n",
       "      <td>139900</td>\n",
       "      <td>57000</td>\n",
       "      <td>SUV</td>\n",
       "    </tr>\n",
       "    <tr>\n",
       "      <th>...</th>\n",
       "      <td>...</td>\n",
       "      <td>...</td>\n",
       "      <td>...</td>\n",
       "      <td>...</td>\n",
       "      <td>...</td>\n",
       "      <td>...</td>\n",
       "      <td>...</td>\n",
       "      <td>...</td>\n",
       "      <td>...</td>\n",
       "      <td>...</td>\n",
       "      <td>...</td>\n",
       "      <td>...</td>\n",
       "      <td>...</td>\n",
       "      <td>...</td>\n",
       "    </tr>\n",
       "    <tr>\n",
       "      <th>1576</th>\n",
       "      <td>22</td>\n",
       "      <td>Male</td>\n",
       "      <td>Salaried</td>\n",
       "      <td>Single</td>\n",
       "      <td>Graduate</td>\n",
       "      <td>2</td>\n",
       "      <td>No</td>\n",
       "      <td>Yes</td>\n",
       "      <td>No</td>\n",
       "      <td>33300</td>\n",
       "      <td>0.0</td>\n",
       "      <td>33300</td>\n",
       "      <td>27000</td>\n",
       "      <td>Hatchback</td>\n",
       "    </tr>\n",
       "    <tr>\n",
       "      <th>1577</th>\n",
       "      <td>22</td>\n",
       "      <td>Male</td>\n",
       "      <td>Business</td>\n",
       "      <td>Married</td>\n",
       "      <td>Graduate</td>\n",
       "      <td>4</td>\n",
       "      <td>No</td>\n",
       "      <td>No</td>\n",
       "      <td>No</td>\n",
       "      <td>32000</td>\n",
       "      <td>NaN</td>\n",
       "      <td>32000</td>\n",
       "      <td>31000</td>\n",
       "      <td>Hatchback</td>\n",
       "    </tr>\n",
       "    <tr>\n",
       "      <th>1578</th>\n",
       "      <td>22</td>\n",
       "      <td>Male</td>\n",
       "      <td>Business</td>\n",
       "      <td>Single</td>\n",
       "      <td>Graduate</td>\n",
       "      <td>2</td>\n",
       "      <td>No</td>\n",
       "      <td>Yes</td>\n",
       "      <td>No</td>\n",
       "      <td>32900</td>\n",
       "      <td>0.0</td>\n",
       "      <td>32900</td>\n",
       "      <td>30000</td>\n",
       "      <td>Hatchback</td>\n",
       "    </tr>\n",
       "    <tr>\n",
       "      <th>1579</th>\n",
       "      <td>22</td>\n",
       "      <td>Male</td>\n",
       "      <td>Business</td>\n",
       "      <td>Married</td>\n",
       "      <td>Graduate</td>\n",
       "      <td>3</td>\n",
       "      <td>Yes</td>\n",
       "      <td>Yes</td>\n",
       "      <td>No</td>\n",
       "      <td>32200</td>\n",
       "      <td>NaN</td>\n",
       "      <td>32200</td>\n",
       "      <td>24000</td>\n",
       "      <td>Hatchback</td>\n",
       "    </tr>\n",
       "    <tr>\n",
       "      <th>1580</th>\n",
       "      <td>22</td>\n",
       "      <td>Male</td>\n",
       "      <td>Salaried</td>\n",
       "      <td>Married</td>\n",
       "      <td>Graduate</td>\n",
       "      <td>4</td>\n",
       "      <td>No</td>\n",
       "      <td>No</td>\n",
       "      <td>No</td>\n",
       "      <td>31600</td>\n",
       "      <td>0.0</td>\n",
       "      <td>31600</td>\n",
       "      <td>31000</td>\n",
       "      <td>Hatchback</td>\n",
       "    </tr>\n",
       "  </tbody>\n",
       "</table>\n",
       "<p>1581 rows × 14 columns</p>\n",
       "</div>\n",
       "      <button class=\"colab-df-convert\" onclick=\"convertToInteractive('df-e7182e6c-e8a5-43b4-a3a6-8208351f2a01')\"\n",
       "              title=\"Convert this dataframe to an interactive table.\"\n",
       "              style=\"display:none;\">\n",
       "        \n",
       "  <svg xmlns=\"http://www.w3.org/2000/svg\" height=\"24px\"viewBox=\"0 0 24 24\"\n",
       "       width=\"24px\">\n",
       "    <path d=\"M0 0h24v24H0V0z\" fill=\"none\"/>\n",
       "    <path d=\"M18.56 5.44l.94 2.06.94-2.06 2.06-.94-2.06-.94-.94-2.06-.94 2.06-2.06.94zm-11 1L8.5 8.5l.94-2.06 2.06-.94-2.06-.94L8.5 2.5l-.94 2.06-2.06.94zm10 10l.94 2.06.94-2.06 2.06-.94-2.06-.94-.94-2.06-.94 2.06-2.06.94z\"/><path d=\"M17.41 7.96l-1.37-1.37c-.4-.4-.92-.59-1.43-.59-.52 0-1.04.2-1.43.59L10.3 9.45l-7.72 7.72c-.78.78-.78 2.05 0 2.83L4 21.41c.39.39.9.59 1.41.59.51 0 1.02-.2 1.41-.59l7.78-7.78 2.81-2.81c.8-.78.8-2.07 0-2.86zM5.41 20L4 18.59l7.72-7.72 1.47 1.35L5.41 20z\"/>\n",
       "  </svg>\n",
       "      </button>\n",
       "      \n",
       "  <style>\n",
       "    .colab-df-container {\n",
       "      display:flex;\n",
       "      flex-wrap:wrap;\n",
       "      gap: 12px;\n",
       "    }\n",
       "\n",
       "    .colab-df-convert {\n",
       "      background-color: #E8F0FE;\n",
       "      border: none;\n",
       "      border-radius: 50%;\n",
       "      cursor: pointer;\n",
       "      display: none;\n",
       "      fill: #1967D2;\n",
       "      height: 32px;\n",
       "      padding: 0 0 0 0;\n",
       "      width: 32px;\n",
       "    }\n",
       "\n",
       "    .colab-df-convert:hover {\n",
       "      background-color: #E2EBFA;\n",
       "      box-shadow: 0px 1px 2px rgba(60, 64, 67, 0.3), 0px 1px 3px 1px rgba(60, 64, 67, 0.15);\n",
       "      fill: #174EA6;\n",
       "    }\n",
       "\n",
       "    [theme=dark] .colab-df-convert {\n",
       "      background-color: #3B4455;\n",
       "      fill: #D2E3FC;\n",
       "    }\n",
       "\n",
       "    [theme=dark] .colab-df-convert:hover {\n",
       "      background-color: #434B5C;\n",
       "      box-shadow: 0px 1px 3px 1px rgba(0, 0, 0, 0.15);\n",
       "      filter: drop-shadow(0px 1px 2px rgba(0, 0, 0, 0.3));\n",
       "      fill: #FFFFFF;\n",
       "    }\n",
       "  </style>\n",
       "\n",
       "      <script>\n",
       "        const buttonEl =\n",
       "          document.querySelector('#df-e7182e6c-e8a5-43b4-a3a6-8208351f2a01 button.colab-df-convert');\n",
       "        buttonEl.style.display =\n",
       "          google.colab.kernel.accessAllowed ? 'block' : 'none';\n",
       "\n",
       "        async function convertToInteractive(key) {\n",
       "          const element = document.querySelector('#df-e7182e6c-e8a5-43b4-a3a6-8208351f2a01');\n",
       "          const dataTable =\n",
       "            await google.colab.kernel.invokeFunction('convertToInteractive',\n",
       "                                                     [key], {});\n",
       "          if (!dataTable) return;\n",
       "\n",
       "          const docLinkHtml = 'Like what you see? Visit the ' +\n",
       "            '<a target=\"_blank\" href=https://colab.research.google.com/notebooks/data_table.ipynb>data table notebook</a>'\n",
       "            + ' to learn more about interactive tables.';\n",
       "          element.innerHTML = '';\n",
       "          dataTable['output_type'] = 'display_data';\n",
       "          await google.colab.output.renderOutput(dataTable, element);\n",
       "          const docLink = document.createElement('div');\n",
       "          docLink.innerHTML = docLinkHtml;\n",
       "          element.appendChild(docLink);\n",
       "        }\n",
       "      </script>\n",
       "    </div>\n",
       "  </div>\n",
       "  "
      ],
      "text/plain": [
       "      Age  Gender Profession Marital_status      Education  No_of_Dependents  \\\n",
       "0      53    Male   Business        Married  Post Graduate                 4   \n",
       "1      53  Female   Salaried        Married  Post Graduate                 4   \n",
       "2      53  Female   Salaried        Married  Post Graduate                 3   \n",
       "3      53  Female   Salaried        Married       Graduate                 2   \n",
       "4      53    Male   Salaried        Married  Post Graduate                 3   \n",
       "...   ...     ...        ...            ...            ...               ...   \n",
       "1576   22    Male   Salaried         Single       Graduate                 2   \n",
       "1577   22    Male   Business        Married       Graduate                 4   \n",
       "1578   22    Male   Business         Single       Graduate                 2   \n",
       "1579   22    Male   Business        Married       Graduate                 3   \n",
       "1580   22    Male   Salaried        Married       Graduate                 4   \n",
       "\n",
       "     Personal_loan House_loan Partner_working  Salary  Partner_salary  \\\n",
       "0               No         No             Yes   99300         70700.0   \n",
       "1              Yes         No             Yes   95500         70300.0   \n",
       "2               No         No             Yes   97300         60700.0   \n",
       "3              Yes         No             Yes   72500         70300.0   \n",
       "4               No         No             Yes   79700         60200.0   \n",
       "...            ...        ...             ...     ...             ...   \n",
       "1576            No        Yes              No   33300             0.0   \n",
       "1577            No         No              No   32000             NaN   \n",
       "1578            No        Yes              No   32900             0.0   \n",
       "1579           Yes        Yes              No   32200             NaN   \n",
       "1580            No         No              No   31600             0.0   \n",
       "\n",
       "      Total_salary  Price       Make  \n",
       "0           170000  61000        SUV  \n",
       "1           165800  61000        SUV  \n",
       "2           158000  57000        SUV  \n",
       "3           142800  61000        SUV  \n",
       "4           139900  57000        SUV  \n",
       "...            ...    ...        ...  \n",
       "1576         33300  27000  Hatchback  \n",
       "1577         32000  31000  Hatchback  \n",
       "1578         32900  30000  Hatchback  \n",
       "1579         32200  24000  Hatchback  \n",
       "1580         31600  31000  Hatchback  \n",
       "\n",
       "[1581 rows x 14 columns]"
      ]
     },
     "execution_count": 14,
     "metadata": {},
     "output_type": "execute_result"
    }
   ],
   "source": [
    "df['Gender'].fillna('Unknown', inplace=True)\n",
    "df"
   ]
  },
  {
   "cell_type": "code",
   "execution_count": null,
   "metadata": {
    "id": "fKM_iD7SA72k"
   },
   "outputs": [],
   "source": [
    "#df['Partner_salary'] = df['Partner_salary'].replace(np.NaN, 0)"
   ]
  },
  {
   "cell_type": "code",
   "execution_count": null,
   "metadata": {
    "id": "uFdlDUtNqOc9"
   },
   "outputs": [],
   "source": [
    "df['Partner_salary'] = np.where(df[\"Partner_working\"]=='No', 0, df['Total_salary'] - df['Salary'])"
   ]
  },
  {
   "cell_type": "code",
   "execution_count": null,
   "metadata": {
    "colab": {
     "base_uri": "https://localhost:8080/"
    },
    "executionInfo": {
     "elapsed": 407,
     "status": "ok",
     "timestamp": 1679761710589,
     "user": {
      "displayName": "Kirtika Rudra",
      "userId": "07472214669267027492"
     },
     "user_tz": -330
    },
    "id": "1K_DUxewRdq5",
    "outputId": "5e587256-c4d1-474e-b245-c3dc41f727e5"
   },
   "outputs": [
    {
     "data": {
      "text/plain": [
       "Age                 0\n",
       "Gender              0\n",
       "Profession          0\n",
       "Marital_status      0\n",
       "Education           0\n",
       "No_of_Dependents    0\n",
       "Personal_loan       0\n",
       "House_loan          0\n",
       "Partner_working     0\n",
       "Salary              0\n",
       "Partner_salary      0\n",
       "Total_salary        0\n",
       "Price               0\n",
       "Make                0\n",
       "temp                0\n",
       "dtype: int64"
      ]
     },
     "execution_count": 20,
     "metadata": {},
     "output_type": "execute_result"
    }
   ],
   "source": [
    "df.isnull().sum()"
   ]
  },
  {
   "cell_type": "code",
   "execution_count": null,
   "metadata": {
    "colab": {
     "base_uri": "https://localhost:8080/",
     "height": 49
    },
    "executionInfo": {
     "elapsed": 365,
     "status": "ok",
     "timestamp": 1679820333576,
     "user": {
      "displayName": "Kirtika Rudra",
      "userId": "07472214669267027492"
     },
     "user_tz": -330
    },
    "id": "1jyJ0DEnH10K",
    "outputId": "8ae19c93-a765-4500-d5a5-d366173e5e6b"
   },
   "outputs": [
    {
     "data": {
      "text/html": [
       "\n",
       "  <div id=\"df-37af7181-745a-4acc-8ebd-af98cf72b7d5\">\n",
       "    <div class=\"colab-df-container\">\n",
       "      <div>\n",
       "<style scoped>\n",
       "    .dataframe tbody tr th:only-of-type {\n",
       "        vertical-align: middle;\n",
       "    }\n",
       "\n",
       "    .dataframe tbody tr th {\n",
       "        vertical-align: top;\n",
       "    }\n",
       "\n",
       "    .dataframe thead th {\n",
       "        text-align: right;\n",
       "    }\n",
       "</style>\n",
       "<table border=\"1\" class=\"dataframe\">\n",
       "  <thead>\n",
       "    <tr style=\"text-align: right;\">\n",
       "      <th></th>\n",
       "      <th>Age</th>\n",
       "      <th>Gender</th>\n",
       "      <th>Profession</th>\n",
       "      <th>Marital_status</th>\n",
       "      <th>Education</th>\n",
       "      <th>No_of_Dependents</th>\n",
       "      <th>Personal_loan</th>\n",
       "      <th>House_loan</th>\n",
       "      <th>Partner_working</th>\n",
       "      <th>Salary</th>\n",
       "      <th>Partner_salary</th>\n",
       "      <th>Total_salary</th>\n",
       "      <th>Price</th>\n",
       "      <th>Make</th>\n",
       "    </tr>\n",
       "  </thead>\n",
       "  <tbody>\n",
       "  </tbody>\n",
       "</table>\n",
       "</div>\n",
       "      <button class=\"colab-df-convert\" onclick=\"convertToInteractive('df-37af7181-745a-4acc-8ebd-af98cf72b7d5')\"\n",
       "              title=\"Convert this dataframe to an interactive table.\"\n",
       "              style=\"display:none;\">\n",
       "        \n",
       "  <svg xmlns=\"http://www.w3.org/2000/svg\" height=\"24px\"viewBox=\"0 0 24 24\"\n",
       "       width=\"24px\">\n",
       "    <path d=\"M0 0h24v24H0V0z\" fill=\"none\"/>\n",
       "    <path d=\"M18.56 5.44l.94 2.06.94-2.06 2.06-.94-2.06-.94-.94-2.06-.94 2.06-2.06.94zm-11 1L8.5 8.5l.94-2.06 2.06-.94-2.06-.94L8.5 2.5l-.94 2.06-2.06.94zm10 10l.94 2.06.94-2.06 2.06-.94-2.06-.94-.94-2.06-.94 2.06-2.06.94z\"/><path d=\"M17.41 7.96l-1.37-1.37c-.4-.4-.92-.59-1.43-.59-.52 0-1.04.2-1.43.59L10.3 9.45l-7.72 7.72c-.78.78-.78 2.05 0 2.83L4 21.41c.39.39.9.59 1.41.59.51 0 1.02-.2 1.41-.59l7.78-7.78 2.81-2.81c.8-.78.8-2.07 0-2.86zM5.41 20L4 18.59l7.72-7.72 1.47 1.35L5.41 20z\"/>\n",
       "  </svg>\n",
       "      </button>\n",
       "      \n",
       "  <style>\n",
       "    .colab-df-container {\n",
       "      display:flex;\n",
       "      flex-wrap:wrap;\n",
       "      gap: 12px;\n",
       "    }\n",
       "\n",
       "    .colab-df-convert {\n",
       "      background-color: #E8F0FE;\n",
       "      border: none;\n",
       "      border-radius: 50%;\n",
       "      cursor: pointer;\n",
       "      display: none;\n",
       "      fill: #1967D2;\n",
       "      height: 32px;\n",
       "      padding: 0 0 0 0;\n",
       "      width: 32px;\n",
       "    }\n",
       "\n",
       "    .colab-df-convert:hover {\n",
       "      background-color: #E2EBFA;\n",
       "      box-shadow: 0px 1px 2px rgba(60, 64, 67, 0.3), 0px 1px 3px 1px rgba(60, 64, 67, 0.15);\n",
       "      fill: #174EA6;\n",
       "    }\n",
       "\n",
       "    [theme=dark] .colab-df-convert {\n",
       "      background-color: #3B4455;\n",
       "      fill: #D2E3FC;\n",
       "    }\n",
       "\n",
       "    [theme=dark] .colab-df-convert:hover {\n",
       "      background-color: #434B5C;\n",
       "      box-shadow: 0px 1px 3px 1px rgba(0, 0, 0, 0.15);\n",
       "      filter: drop-shadow(0px 1px 2px rgba(0, 0, 0, 0.3));\n",
       "      fill: #FFFFFF;\n",
       "    }\n",
       "  </style>\n",
       "\n",
       "      <script>\n",
       "        const buttonEl =\n",
       "          document.querySelector('#df-37af7181-745a-4acc-8ebd-af98cf72b7d5 button.colab-df-convert');\n",
       "        buttonEl.style.display =\n",
       "          google.colab.kernel.accessAllowed ? 'block' : 'none';\n",
       "\n",
       "        async function convertToInteractive(key) {\n",
       "          const element = document.querySelector('#df-37af7181-745a-4acc-8ebd-af98cf72b7d5');\n",
       "          const dataTable =\n",
       "            await google.colab.kernel.invokeFunction('convertToInteractive',\n",
       "                                                     [key], {});\n",
       "          if (!dataTable) return;\n",
       "\n",
       "          const docLinkHtml = 'Like what you see? Visit the ' +\n",
       "            '<a target=\"_blank\" href=https://colab.research.google.com/notebooks/data_table.ipynb>data table notebook</a>'\n",
       "            + ' to learn more about interactive tables.';\n",
       "          element.innerHTML = '';\n",
       "          dataTable['output_type'] = 'display_data';\n",
       "          await google.colab.output.renderOutput(dataTable, element);\n",
       "          const docLink = document.createElement('div');\n",
       "          docLink.innerHTML = docLinkHtml;\n",
       "          element.appendChild(docLink);\n",
       "        }\n",
       "      </script>\n",
       "    </div>\n",
       "  </div>\n",
       "  "
      ],
      "text/plain": [
       "Empty DataFrame\n",
       "Columns: [Age, Gender, Profession, Marital_status, Education, No_of_Dependents, Personal_loan, House_loan, Partner_working, Salary, Partner_salary, Total_salary, Price, Make]\n",
       "Index: []"
      ]
     },
     "execution_count": 11,
     "metadata": {},
     "output_type": "execute_result"
    }
   ],
   "source": [
    "## Let's extract the rows which have missing values\n",
    "df[df.Partner_salary.isnull()]"
   ]
  },
  {
   "cell_type": "code",
   "execution_count": null,
   "metadata": {
    "colab": {
     "base_uri": "https://localhost:8080/"
    },
    "executionInfo": {
     "elapsed": 377,
     "status": "ok",
     "timestamp": 1679820340252,
     "user": {
      "displayName": "Kirtika Rudra",
      "userId": "07472214669267027492"
     },
     "user_tz": -330
    },
    "id": "HM4qzRz6JuGn",
    "outputId": "cbdfcdab-34af-4f12-aa26-41795ce90042"
   },
   "outputs": [
    {
     "data": {
      "text/plain": [
       "0       False\n",
       "1       False\n",
       "2       False\n",
       "3       False\n",
       "4       False\n",
       "        ...  \n",
       "1576    False\n",
       "1577    False\n",
       "1578    False\n",
       "1579    False\n",
       "1580    False\n",
       "Name: Partner_salary, Length: 1581, dtype: bool"
      ]
     },
     "execution_count": 12,
     "metadata": {},
     "output_type": "execute_result"
    }
   ],
   "source": [
    "df['Partner_salary'].isnull()"
   ]
  },
  {
   "cell_type": "markdown",
   "metadata": {
    "id": "ovuEUQ4sR7we"
   },
   "source": [
    "#Data Visualization"
   ]
  },
  {
   "cell_type": "markdown",
   "metadata": {
    "id": "a2qyyaetSC9l"
   },
   "source": [
    "Univariate Analysis"
   ]
  },
  {
   "cell_type": "code",
   "execution_count": null,
   "metadata": {
    "colab": {
     "base_uri": "https://localhost:8080/",
     "height": 463
    },
    "executionInfo": {
     "elapsed": 1401,
     "status": "ok",
     "timestamp": 1679820346597,
     "user": {
      "displayName": "Kirtika Rudra",
      "userId": "07472214669267027492"
     },
     "user_tz": -330
    },
    "id": "SmYzGDgsOoWk",
    "outputId": "7d8bb048-cf1d-4715-a965-48fec36b9a47"
   },
   "outputs": [
    {
     "data": {
      "text/plain": [
       "<Axes: xlabel='Salary'>"
      ]
     },
     "execution_count": 13,
     "metadata": {},
     "output_type": "execute_result"
    },
    {
     "data": {
      "image/png": "[encoded data removed]",
      "text/plain": [
       "<Figure size 1080x504 with 2 Axes>"
      ]
     },
     "metadata": {
      "needs_background": "light"
     },
     "output_type": "display_data"
    }
   ],
   "source": [
    "fig_dims = (15, 7) \n",
    "fig, axs = plt.subplots(nrows=1, ncols=2, figsize=fig_dims) \n",
    "sns.histplot(df.Salary, kde=False, ax=axs[0]) \n",
    "sns.boxplot(x= 'Salary', data=df, ax=axs[1]) "
   ]
  },
  {
   "cell_type": "code",
   "execution_count": null,
   "metadata": {
    "colab": {
     "base_uri": "https://localhost:8080/",
     "height": 460
    },
    "executionInfo": {
     "elapsed": 2140,
     "status": "ok",
     "timestamp": 1679504919671,
     "user": {
      "displayName": "Kirtika Rudra",
      "userId": "07472214669267027492"
     },
     "user_tz": -330
    },
    "id": "MvsNUs9ISg40",
    "outputId": "bfe603f3-5695-459e-930d-c0f165dd3aa6"
   },
   "outputs": [
    {
     "data": {
      "text/plain": [
       "<Axes: xlabel='Total_salary'>"
      ]
     },
     "execution_count": 55,
     "metadata": {},
     "output_type": "execute_result"
    },
    {
     "data": {
      "image/png": "[encoded data removed]",
      "text/plain": [
       "<Figure size 1080x504 with 2 Axes>"
      ]
     },
     "metadata": {
      "needs_background": "light"
     },
     "output_type": "display_data"
    }
   ],
   "source": [
    "fig_dims = (15, 7) \n",
    "fig, axs = plt.subplots(nrows=1, ncols=2, figsize=fig_dims) \n",
    "sns.histplot(df.Total_salary, kde=False, ax=axs[0]) \n",
    "sns.boxplot(x= 'Total_salary', data=df, ax=axs[1])"
   ]
  },
  {
   "cell_type": "code",
   "execution_count": null,
   "metadata": {
    "colab": {
     "base_uri": "https://localhost:8080/"
    },
    "executionInfo": {
     "elapsed": 1054,
     "status": "ok",
     "timestamp": 1679845067628,
     "user": {
      "displayName": "Kirtika Rudra",
      "userId": "07472214669267027492"
     },
     "user_tz": -330
    },
    "id": "6YU1iiYBnDes",
    "outputId": "a10348f1-ca85-40b9-b843-6e36b5e75d1a"
   },
   "outputs": [
    {
     "name": "stdout",
     "output_type": "stream",
     "text": [
      "75th quartile:  95900.0\n",
      "25th quartile:  60500.0\n"
     ]
    }
   ],
   "source": [
    "percentile25 = df['Total_salary'].quantile(0.25)\n",
    "percentile75 = df['Total_salary'].quantile(0.75)\n",
    "print(\"75th quartile: \",percentile75)\n",
    "print(\"25th quartile: \",percentile25)"
   ]
  },
  {
   "cell_type": "markdown",
   "metadata": {
    "id": "hlDjp1o5nXS1"
   },
   "source": [
    "Finding outliers"
   ]
  },
  {
   "cell_type": "code",
   "execution_count": null,
   "metadata": {
    "colab": {
     "base_uri": "https://localhost:8080/"
    },
    "executionInfo": {
     "elapsed": 3,
     "status": "ok",
     "timestamp": 1679845070014,
     "user": {
      "displayName": "Kirtika Rudra",
      "userId": "07472214669267027492"
     },
     "user_tz": -330
    },
    "id": "akdGLmy1no18",
    "outputId": "e5987c44-cf68-4a68-e4de-474f70fe3dde"
   },
   "outputs": [
    {
     "name": "stdout",
     "output_type": "stream",
     "text": [
      "IQR:  35400.0\n"
     ]
    }
   ],
   "source": [
    "iqr = percentile75 - percentile25\n",
    "print (\"IQR: \",iqr)"
   ]
  },
  {
   "cell_type": "code",
   "execution_count": null,
   "metadata": {
    "colab": {
     "base_uri": "https://localhost:8080/"
    },
    "executionInfo": {
     "elapsed": 2,
     "status": "ok",
     "timestamp": 1679845074008,
     "user": {
      "displayName": "Kirtika Rudra",
      "userId": "07472214669267027492"
     },
     "user_tz": -330
    },
    "id": "49nYjq-yoJct",
    "outputId": "72323026-f341-48f0-e2dc-eac2b0c10d61"
   },
   "outputs": [
    {
     "name": "stdout",
     "output_type": "stream",
     "text": [
      "149000.0\n"
     ]
    }
   ],
   "source": [
    "upper_limit = percentile75 + 1.5*iqr\n",
    "print(upper_limit)"
   ]
  },
  {
   "cell_type": "code",
   "execution_count": null,
   "metadata": {
    "colab": {
     "base_uri": "https://localhost:8080/"
    },
    "executionInfo": {
     "elapsed": 5,
     "status": "ok",
     "timestamp": 1679845077707,
     "user": {
      "displayName": "Kirtika Rudra",
      "userId": "07472214669267027492"
     },
     "user_tz": -330
    },
    "id": "15W-wsX0rj5k",
    "outputId": "fa50d4ec-60a0-476a-9708-6941a1500d5b"
   },
   "outputs": [
    {
     "name": "stdout",
     "output_type": "stream",
     "text": [
      "7400.0\n"
     ]
    }
   ],
   "source": [
    "lower_limit = percentile25 - 1.5*iqr\n",
    "print(lower_limit)"
   ]
  },
  {
   "cell_type": "code",
   "execution_count": null,
   "metadata": {
    "colab": {
     "base_uri": "https://localhost:8080/",
     "height": 896
    },
    "executionInfo": {
     "elapsed": 420,
     "status": "ok",
     "timestamp": 1679830801179,
     "user": {
      "displayName": "Kirtika Rudra",
      "userId": "07472214669267027492"
     },
     "user_tz": -330
    },
    "id": "Ly40UnSknWRT",
    "outputId": "24c78304-83e6-43ba-955e-7d6768358bdb"
   },
   "outputs": [
    {
     "data": {
      "text/html": [
       "\n",
       "  <div id=\"df-6a735ca1-4e5e-4cf7-b014-bf1d773788f5\">\n",
       "    <div class=\"colab-df-container\">\n",
       "      <div>\n",
       "<style scoped>\n",
       "    .dataframe tbody tr th:only-of-type {\n",
       "        vertical-align: middle;\n",
       "    }\n",
       "\n",
       "    .dataframe tbody tr th {\n",
       "        vertical-align: top;\n",
       "    }\n",
       "\n",
       "    .dataframe thead th {\n",
       "        text-align: right;\n",
       "    }\n",
       "</style>\n",
       "<table border=\"1\" class=\"dataframe\">\n",
       "  <thead>\n",
       "    <tr style=\"text-align: right;\">\n",
       "      <th></th>\n",
       "      <th>Age</th>\n",
       "      <th>Gender</th>\n",
       "      <th>Profession</th>\n",
       "      <th>Marital_status</th>\n",
       "      <th>Education</th>\n",
       "      <th>No_of_Dependents</th>\n",
       "      <th>Personal_loan</th>\n",
       "      <th>House_loan</th>\n",
       "      <th>Partner_working</th>\n",
       "      <th>Salary</th>\n",
       "      <th>Partner_salary</th>\n",
       "      <th>Total_salary</th>\n",
       "      <th>Price</th>\n",
       "      <th>Make</th>\n",
       "    </tr>\n",
       "  </thead>\n",
       "  <tbody>\n",
       "    <tr>\n",
       "      <th>0</th>\n",
       "      <td>53</td>\n",
       "      <td>Male</td>\n",
       "      <td>Business</td>\n",
       "      <td>Married</td>\n",
       "      <td>Post Graduate</td>\n",
       "      <td>4</td>\n",
       "      <td>No</td>\n",
       "      <td>No</td>\n",
       "      <td>Yes</td>\n",
       "      <td>99300</td>\n",
       "      <td>70700</td>\n",
       "      <td>170000</td>\n",
       "      <td>61000</td>\n",
       "      <td>SUV</td>\n",
       "    </tr>\n",
       "    <tr>\n",
       "      <th>1</th>\n",
       "      <td>53</td>\n",
       "      <td>Female</td>\n",
       "      <td>Salaried</td>\n",
       "      <td>Married</td>\n",
       "      <td>Post Graduate</td>\n",
       "      <td>4</td>\n",
       "      <td>Yes</td>\n",
       "      <td>No</td>\n",
       "      <td>Yes</td>\n",
       "      <td>95500</td>\n",
       "      <td>70300</td>\n",
       "      <td>165800</td>\n",
       "      <td>61000</td>\n",
       "      <td>SUV</td>\n",
       "    </tr>\n",
       "    <tr>\n",
       "      <th>2</th>\n",
       "      <td>53</td>\n",
       "      <td>Female</td>\n",
       "      <td>Salaried</td>\n",
       "      <td>Married</td>\n",
       "      <td>Post Graduate</td>\n",
       "      <td>3</td>\n",
       "      <td>No</td>\n",
       "      <td>No</td>\n",
       "      <td>Yes</td>\n",
       "      <td>97300</td>\n",
       "      <td>60700</td>\n",
       "      <td>158000</td>\n",
       "      <td>57000</td>\n",
       "      <td>SUV</td>\n",
       "    </tr>\n",
       "    <tr>\n",
       "      <th>17</th>\n",
       "      <td>49</td>\n",
       "      <td>Female</td>\n",
       "      <td>Salaried</td>\n",
       "      <td>Married</td>\n",
       "      <td>Post Graduate</td>\n",
       "      <td>4</td>\n",
       "      <td>No</td>\n",
       "      <td>No</td>\n",
       "      <td>Yes</td>\n",
       "      <td>95100</td>\n",
       "      <td>70600</td>\n",
       "      <td>165700</td>\n",
       "      <td>64000</td>\n",
       "      <td>SUV</td>\n",
       "    </tr>\n",
       "    <tr>\n",
       "      <th>18</th>\n",
       "      <td>49</td>\n",
       "      <td>Female</td>\n",
       "      <td>Business</td>\n",
       "      <td>Married</td>\n",
       "      <td>Post Graduate</td>\n",
       "      <td>3</td>\n",
       "      <td>No</td>\n",
       "      <td>No</td>\n",
       "      <td>Yes</td>\n",
       "      <td>92600</td>\n",
       "      <td>70300</td>\n",
       "      <td>162900</td>\n",
       "      <td>58000</td>\n",
       "      <td>SUV</td>\n",
       "    </tr>\n",
       "    <tr>\n",
       "      <th>19</th>\n",
       "      <td>49</td>\n",
       "      <td>Male</td>\n",
       "      <td>Salaried</td>\n",
       "      <td>Married</td>\n",
       "      <td>Post Graduate</td>\n",
       "      <td>3</td>\n",
       "      <td>Yes</td>\n",
       "      <td>No</td>\n",
       "      <td>Yes</td>\n",
       "      <td>98400</td>\n",
       "      <td>60600</td>\n",
       "      <td>159000</td>\n",
       "      <td>54000</td>\n",
       "      <td>SUV</td>\n",
       "    </tr>\n",
       "    <tr>\n",
       "      <th>29</th>\n",
       "      <td>46</td>\n",
       "      <td>Female</td>\n",
       "      <td>Salaried</td>\n",
       "      <td>Married</td>\n",
       "      <td>Post Graduate</td>\n",
       "      <td>2</td>\n",
       "      <td>No</td>\n",
       "      <td>No</td>\n",
       "      <td>Yes</td>\n",
       "      <td>98300</td>\n",
       "      <td>70700</td>\n",
       "      <td>169000</td>\n",
       "      <td>61000</td>\n",
       "      <td>SUV</td>\n",
       "    </tr>\n",
       "    <tr>\n",
       "      <th>30</th>\n",
       "      <td>46</td>\n",
       "      <td>Male</td>\n",
       "      <td>Salaried</td>\n",
       "      <td>Married</td>\n",
       "      <td>Post Graduate</td>\n",
       "      <td>4</td>\n",
       "      <td>No</td>\n",
       "      <td>No</td>\n",
       "      <td>Yes</td>\n",
       "      <td>94900</td>\n",
       "      <td>70700</td>\n",
       "      <td>165600</td>\n",
       "      <td>67000</td>\n",
       "      <td>SUV</td>\n",
       "    </tr>\n",
       "    <tr>\n",
       "      <th>31</th>\n",
       "      <td>46</td>\n",
       "      <td>Male</td>\n",
       "      <td>Business</td>\n",
       "      <td>Married</td>\n",
       "      <td>Graduate</td>\n",
       "      <td>2</td>\n",
       "      <td>Yes</td>\n",
       "      <td>No</td>\n",
       "      <td>Yes</td>\n",
       "      <td>91100</td>\n",
       "      <td>70000</td>\n",
       "      <td>161100</td>\n",
       "      <td>66000</td>\n",
       "      <td>SUV</td>\n",
       "    </tr>\n",
       "    <tr>\n",
       "      <th>41</th>\n",
       "      <td>53</td>\n",
       "      <td>Female</td>\n",
       "      <td>Salaried</td>\n",
       "      <td>Married</td>\n",
       "      <td>Post Graduate</td>\n",
       "      <td>4</td>\n",
       "      <td>No</td>\n",
       "      <td>No</td>\n",
       "      <td>Yes</td>\n",
       "      <td>96600</td>\n",
       "      <td>70300</td>\n",
       "      <td>166900</td>\n",
       "      <td>66000</td>\n",
       "      <td>SUV</td>\n",
       "    </tr>\n",
       "    <tr>\n",
       "      <th>42</th>\n",
       "      <td>52</td>\n",
       "      <td>Female</td>\n",
       "      <td>Salaried</td>\n",
       "      <td>Married</td>\n",
       "      <td>Post Graduate</td>\n",
       "      <td>3</td>\n",
       "      <td>No</td>\n",
       "      <td>No</td>\n",
       "      <td>Yes</td>\n",
       "      <td>94900</td>\n",
       "      <td>60300</td>\n",
       "      <td>155200</td>\n",
       "      <td>55000</td>\n",
       "      <td>SUV</td>\n",
       "    </tr>\n",
       "    <tr>\n",
       "      <th>49</th>\n",
       "      <td>52</td>\n",
       "      <td>Female</td>\n",
       "      <td>Business</td>\n",
       "      <td>Married</td>\n",
       "      <td>Post Graduate</td>\n",
       "      <td>4</td>\n",
       "      <td>No</td>\n",
       "      <td>No</td>\n",
       "      <td>Yes</td>\n",
       "      <td>90300</td>\n",
       "      <td>80100</td>\n",
       "      <td>170400</td>\n",
       "      <td>69000</td>\n",
       "      <td>SUV</td>\n",
       "    </tr>\n",
       "    <tr>\n",
       "      <th>56</th>\n",
       "      <td>51</td>\n",
       "      <td>Female</td>\n",
       "      <td>Salaried</td>\n",
       "      <td>Married</td>\n",
       "      <td>Post Graduate</td>\n",
       "      <td>2</td>\n",
       "      <td>No</td>\n",
       "      <td>No</td>\n",
       "      <td>Yes</td>\n",
       "      <td>90600</td>\n",
       "      <td>80400</td>\n",
       "      <td>171000</td>\n",
       "      <td>69000</td>\n",
       "      <td>SUV</td>\n",
       "    </tr>\n",
       "    <tr>\n",
       "      <th>57</th>\n",
       "      <td>54</td>\n",
       "      <td>Male</td>\n",
       "      <td>Business</td>\n",
       "      <td>Married</td>\n",
       "      <td>Post Graduate</td>\n",
       "      <td>2</td>\n",
       "      <td>No</td>\n",
       "      <td>No</td>\n",
       "      <td>Yes</td>\n",
       "      <td>93900</td>\n",
       "      <td>60200</td>\n",
       "      <td>154100</td>\n",
       "      <td>57000</td>\n",
       "      <td>SUV</td>\n",
       "    </tr>\n",
       "    <tr>\n",
       "      <th>75</th>\n",
       "      <td>52</td>\n",
       "      <td>Female</td>\n",
       "      <td>Salaried</td>\n",
       "      <td>Married</td>\n",
       "      <td>Post Graduate</td>\n",
       "      <td>4</td>\n",
       "      <td>No</td>\n",
       "      <td>No</td>\n",
       "      <td>Yes</td>\n",
       "      <td>93900</td>\n",
       "      <td>70800</td>\n",
       "      <td>164700</td>\n",
       "      <td>68000</td>\n",
       "      <td>SUV</td>\n",
       "    </tr>\n",
       "    <tr>\n",
       "      <th>76</th>\n",
       "      <td>52</td>\n",
       "      <td>Male</td>\n",
       "      <td>Salaried</td>\n",
       "      <td>Married</td>\n",
       "      <td>Graduate</td>\n",
       "      <td>2</td>\n",
       "      <td>No</td>\n",
       "      <td>No</td>\n",
       "      <td>Yes</td>\n",
       "      <td>91000</td>\n",
       "      <td>70800</td>\n",
       "      <td>161800</td>\n",
       "      <td>60000</td>\n",
       "      <td>SUV</td>\n",
       "    </tr>\n",
       "    <tr>\n",
       "      <th>87</th>\n",
       "      <td>51</td>\n",
       "      <td>Male</td>\n",
       "      <td>Salaried</td>\n",
       "      <td>Married</td>\n",
       "      <td>Post Graduate</td>\n",
       "      <td>3</td>\n",
       "      <td>No</td>\n",
       "      <td>No</td>\n",
       "      <td>Yes</td>\n",
       "      <td>92600</td>\n",
       "      <td>60900</td>\n",
       "      <td>153500</td>\n",
       "      <td>55000</td>\n",
       "      <td>SUV</td>\n",
       "    </tr>\n",
       "    <tr>\n",
       "      <th>98</th>\n",
       "      <td>50</td>\n",
       "      <td>Female</td>\n",
       "      <td>Salaried</td>\n",
       "      <td>Married</td>\n",
       "      <td>Post Graduate</td>\n",
       "      <td>4</td>\n",
       "      <td>Yes</td>\n",
       "      <td>No</td>\n",
       "      <td>Yes</td>\n",
       "      <td>99300</td>\n",
       "      <td>70000</td>\n",
       "      <td>169300</td>\n",
       "      <td>66000</td>\n",
       "      <td>SUV</td>\n",
       "    </tr>\n",
       "    <tr>\n",
       "      <th>99</th>\n",
       "      <td>50</td>\n",
       "      <td>Male</td>\n",
       "      <td>Salaried</td>\n",
       "      <td>Married</td>\n",
       "      <td>Post Graduate</td>\n",
       "      <td>3</td>\n",
       "      <td>Yes</td>\n",
       "      <td>No</td>\n",
       "      <td>Yes</td>\n",
       "      <td>98600</td>\n",
       "      <td>60500</td>\n",
       "      <td>159100</td>\n",
       "      <td>56000</td>\n",
       "      <td>SUV</td>\n",
       "    </tr>\n",
       "    <tr>\n",
       "      <th>103</th>\n",
       "      <td>49</td>\n",
       "      <td>Male</td>\n",
       "      <td>Business</td>\n",
       "      <td>Married</td>\n",
       "      <td>Graduate</td>\n",
       "      <td>4</td>\n",
       "      <td>No</td>\n",
       "      <td>No</td>\n",
       "      <td>Yes</td>\n",
       "      <td>92300</td>\n",
       "      <td>70000</td>\n",
       "      <td>162300</td>\n",
       "      <td>67000</td>\n",
       "      <td>SUV</td>\n",
       "    </tr>\n",
       "    <tr>\n",
       "      <th>111</th>\n",
       "      <td>48</td>\n",
       "      <td>Female</td>\n",
       "      <td>Business</td>\n",
       "      <td>Married</td>\n",
       "      <td>Graduate</td>\n",
       "      <td>3</td>\n",
       "      <td>No</td>\n",
       "      <td>No</td>\n",
       "      <td>Yes</td>\n",
       "      <td>90300</td>\n",
       "      <td>70800</td>\n",
       "      <td>161100</td>\n",
       "      <td>62000</td>\n",
       "      <td>SUV</td>\n",
       "    </tr>\n",
       "    <tr>\n",
       "      <th>116</th>\n",
       "      <td>47</td>\n",
       "      <td>Male</td>\n",
       "      <td>Business</td>\n",
       "      <td>Married</td>\n",
       "      <td>Graduate</td>\n",
       "      <td>4</td>\n",
       "      <td>Yes</td>\n",
       "      <td>No</td>\n",
       "      <td>Yes</td>\n",
       "      <td>86000</td>\n",
       "      <td>80500</td>\n",
       "      <td>166500</td>\n",
       "      <td>69000</td>\n",
       "      <td>SUV</td>\n",
       "    </tr>\n",
       "    <tr>\n",
       "      <th>117</th>\n",
       "      <td>47</td>\n",
       "      <td>Male</td>\n",
       "      <td>Salaried</td>\n",
       "      <td>Married</td>\n",
       "      <td>Graduate</td>\n",
       "      <td>2</td>\n",
       "      <td>No</td>\n",
       "      <td>No</td>\n",
       "      <td>Yes</td>\n",
       "      <td>86100</td>\n",
       "      <td>70800</td>\n",
       "      <td>156900</td>\n",
       "      <td>58000</td>\n",
       "      <td>SUV</td>\n",
       "    </tr>\n",
       "    <tr>\n",
       "      <th>130</th>\n",
       "      <td>46</td>\n",
       "      <td>Female</td>\n",
       "      <td>Salaried</td>\n",
       "      <td>Married</td>\n",
       "      <td>Post Graduate</td>\n",
       "      <td>3</td>\n",
       "      <td>No</td>\n",
       "      <td>No</td>\n",
       "      <td>Yes</td>\n",
       "      <td>98900</td>\n",
       "      <td>60000</td>\n",
       "      <td>158900</td>\n",
       "      <td>56000</td>\n",
       "      <td>SUV</td>\n",
       "    </tr>\n",
       "    <tr>\n",
       "      <th>131</th>\n",
       "      <td>46</td>\n",
       "      <td>Male</td>\n",
       "      <td>Salaried</td>\n",
       "      <td>Married</td>\n",
       "      <td>Post Graduate</td>\n",
       "      <td>3</td>\n",
       "      <td>Yes</td>\n",
       "      <td>No</td>\n",
       "      <td>Yes</td>\n",
       "      <td>97700</td>\n",
       "      <td>60000</td>\n",
       "      <td>157700</td>\n",
       "      <td>58000</td>\n",
       "      <td>SUV</td>\n",
       "    </tr>\n",
       "    <tr>\n",
       "      <th>277</th>\n",
       "      <td>41</td>\n",
       "      <td>Male</td>\n",
       "      <td>Salaried</td>\n",
       "      <td>Married</td>\n",
       "      <td>Post Graduate</td>\n",
       "      <td>3</td>\n",
       "      <td>No</td>\n",
       "      <td>No</td>\n",
       "      <td>Yes</td>\n",
       "      <td>87000</td>\n",
       "      <td>70900</td>\n",
       "      <td>157900</td>\n",
       "      <td>61000</td>\n",
       "      <td>SUV</td>\n",
       "    </tr>\n",
       "    <tr>\n",
       "      <th>329</th>\n",
       "      <td>39</td>\n",
       "      <td>Female</td>\n",
       "      <td>Salaried</td>\n",
       "      <td>Married</td>\n",
       "      <td>Post Graduate</td>\n",
       "      <td>3</td>\n",
       "      <td>No</td>\n",
       "      <td>No</td>\n",
       "      <td>Yes</td>\n",
       "      <td>87500</td>\n",
       "      <td>70700</td>\n",
       "      <td>158200</td>\n",
       "      <td>68000</td>\n",
       "      <td>SUV</td>\n",
       "    </tr>\n",
       "  </tbody>\n",
       "</table>\n",
       "</div>\n",
       "      <button class=\"colab-df-convert\" onclick=\"convertToInteractive('df-6a735ca1-4e5e-4cf7-b014-bf1d773788f5')\"\n",
       "              title=\"Convert this dataframe to an interactive table.\"\n",
       "              style=\"display:none;\">\n",
       "        \n",
       "  <svg xmlns=\"http://www.w3.org/2000/svg\" height=\"24px\"viewBox=\"0 0 24 24\"\n",
       "       width=\"24px\">\n",
       "    <path d=\"M0 0h24v24H0V0z\" fill=\"none\"/>\n",
       "    <path d=\"M18.56 5.44l.94 2.06.94-2.06 2.06-.94-2.06-.94-.94-2.06-.94 2.06-2.06.94zm-11 1L8.5 8.5l.94-2.06 2.06-.94-2.06-.94L8.5 2.5l-.94 2.06-2.06.94zm10 10l.94 2.06.94-2.06 2.06-.94-2.06-.94-.94-2.06-.94 2.06-2.06.94z\"/><path d=\"M17.41 7.96l-1.37-1.37c-.4-.4-.92-.59-1.43-.59-.52 0-1.04.2-1.43.59L10.3 9.45l-7.72 7.72c-.78.78-.78 2.05 0 2.83L4 21.41c.39.39.9.59 1.41.59.51 0 1.02-.2 1.41-.59l7.78-7.78 2.81-2.81c.8-.78.8-2.07 0-2.86zM5.41 20L4 18.59l7.72-7.72 1.47 1.35L5.41 20z\"/>\n",
       "  </svg>\n",
       "      </button>\n",
       "      \n",
       "  <style>\n",
       "    .colab-df-container {\n",
       "      display:flex;\n",
       "      flex-wrap:wrap;\n",
       "      gap: 12px;\n",
       "    }\n",
       "\n",
       "    .colab-df-convert {\n",
       "      background-color: #E8F0FE;\n",
       "      border: none;\n",
       "      border-radius: 50%;\n",
       "      cursor: pointer;\n",
       "      display: none;\n",
       "      fill: #1967D2;\n",
       "      height: 32px;\n",
       "      padding: 0 0 0 0;\n",
       "      width: 32px;\n",
       "    }\n",
       "\n",
       "    .colab-df-convert:hover {\n",
       "      background-color: #E2EBFA;\n",
       "      box-shadow: 0px 1px 2px rgba(60, 64, 67, 0.3), 0px 1px 3px 1px rgba(60, 64, 67, 0.15);\n",
       "      fill: #174EA6;\n",
       "    }\n",
       "\n",
       "    [theme=dark] .colab-df-convert {\n",
       "      background-color: #3B4455;\n",
       "      fill: #D2E3FC;\n",
       "    }\n",
       "\n",
       "    [theme=dark] .colab-df-convert:hover {\n",
       "      background-color: #434B5C;\n",
       "      box-shadow: 0px 1px 3px 1px rgba(0, 0, 0, 0.15);\n",
       "      filter: drop-shadow(0px 1px 2px rgba(0, 0, 0, 0.3));\n",
       "      fill: #FFFFFF;\n",
       "    }\n",
       "  </style>\n",
       "\n",
       "      <script>\n",
       "        const buttonEl =\n",
       "          document.querySelector('#df-6a735ca1-4e5e-4cf7-b014-bf1d773788f5 button.colab-df-convert');\n",
       "        buttonEl.style.display =\n",
       "          google.colab.kernel.accessAllowed ? 'block' : 'none';\n",
       "\n",
       "        async function convertToInteractive(key) {\n",
       "          const element = document.querySelector('#df-6a735ca1-4e5e-4cf7-b014-bf1d773788f5');\n",
       "          const dataTable =\n",
       "            await google.colab.kernel.invokeFunction('convertToInteractive',\n",
       "                                                     [key], {});\n",
       "          if (!dataTable) return;\n",
       "\n",
       "          const docLinkHtml = 'Like what you see? Visit the ' +\n",
       "            '<a target=\"_blank\" href=https://colab.research.google.com/notebooks/data_table.ipynb>data table notebook</a>'\n",
       "            + ' to learn more about interactive tables.';\n",
       "          element.innerHTML = '';\n",
       "          dataTable['output_type'] = 'display_data';\n",
       "          await google.colab.output.renderOutput(dataTable, element);\n",
       "          const docLink = document.createElement('div');\n",
       "          docLink.innerHTML = docLinkHtml;\n",
       "          element.appendChild(docLink);\n",
       "        }\n",
       "      </script>\n",
       "    </div>\n",
       "  </div>\n",
       "  "
      ],
      "text/plain": [
       "     Age  Gender Profession Marital_status      Education  No_of_Dependents  \\\n",
       "0     53    Male   Business        Married  Post Graduate                 4   \n",
       "1     53  Female   Salaried        Married  Post Graduate                 4   \n",
       "2     53  Female   Salaried        Married  Post Graduate                 3   \n",
       "17    49  Female   Salaried        Married  Post Graduate                 4   \n",
       "18    49  Female   Business        Married  Post Graduate                 3   \n",
       "19    49    Male   Salaried        Married  Post Graduate                 3   \n",
       "29    46  Female   Salaried        Married  Post Graduate                 2   \n",
       "30    46    Male   Salaried        Married  Post Graduate                 4   \n",
       "31    46    Male   Business        Married       Graduate                 2   \n",
       "41    53  Female   Salaried        Married  Post Graduate                 4   \n",
       "42    52  Female   Salaried        Married  Post Graduate                 3   \n",
       "49    52  Female   Business        Married  Post Graduate                 4   \n",
       "56    51  Female   Salaried        Married  Post Graduate                 2   \n",
       "57    54    Male   Business        Married  Post Graduate                 2   \n",
       "75    52  Female   Salaried        Married  Post Graduate                 4   \n",
       "76    52    Male   Salaried        Married       Graduate                 2   \n",
       "87    51    Male   Salaried        Married  Post Graduate                 3   \n",
       "98    50  Female   Salaried        Married  Post Graduate                 4   \n",
       "99    50    Male   Salaried        Married  Post Graduate                 3   \n",
       "103   49    Male   Business        Married       Graduate                 4   \n",
       "111   48  Female   Business        Married       Graduate                 3   \n",
       "116   47    Male   Business        Married       Graduate                 4   \n",
       "117   47    Male   Salaried        Married       Graduate                 2   \n",
       "130   46  Female   Salaried        Married  Post Graduate                 3   \n",
       "131   46    Male   Salaried        Married  Post Graduate                 3   \n",
       "277   41    Male   Salaried        Married  Post Graduate                 3   \n",
       "329   39  Female   Salaried        Married  Post Graduate                 3   \n",
       "\n",
       "    Personal_loan House_loan Partner_working  Salary  Partner_salary  \\\n",
       "0              No         No             Yes   99300           70700   \n",
       "1             Yes         No             Yes   95500           70300   \n",
       "2              No         No             Yes   97300           60700   \n",
       "17             No         No             Yes   95100           70600   \n",
       "18             No         No             Yes   92600           70300   \n",
       "19            Yes         No             Yes   98400           60600   \n",
       "29             No         No             Yes   98300           70700   \n",
       "30             No         No             Yes   94900           70700   \n",
       "31            Yes         No             Yes   91100           70000   \n",
       "41             No         No             Yes   96600           70300   \n",
       "42             No         No             Yes   94900           60300   \n",
       "49             No         No             Yes   90300           80100   \n",
       "56             No         No             Yes   90600           80400   \n",
       "57             No         No             Yes   93900           60200   \n",
       "75             No         No             Yes   93900           70800   \n",
       "76             No         No             Yes   91000           70800   \n",
       "87             No         No             Yes   92600           60900   \n",
       "98            Yes         No             Yes   99300           70000   \n",
       "99            Yes         No             Yes   98600           60500   \n",
       "103            No         No             Yes   92300           70000   \n",
       "111            No         No             Yes   90300           70800   \n",
       "116           Yes         No             Yes   86000           80500   \n",
       "117            No         No             Yes   86100           70800   \n",
       "130            No         No             Yes   98900           60000   \n",
       "131           Yes         No             Yes   97700           60000   \n",
       "277            No         No             Yes   87000           70900   \n",
       "329            No         No             Yes   87500           70700   \n",
       "\n",
       "     Total_salary  Price Make  \n",
       "0          170000  61000  SUV  \n",
       "1          165800  61000  SUV  \n",
       "2          158000  57000  SUV  \n",
       "17         165700  64000  SUV  \n",
       "18         162900  58000  SUV  \n",
       "19         159000  54000  SUV  \n",
       "29         169000  61000  SUV  \n",
       "30         165600  67000  SUV  \n",
       "31         161100  66000  SUV  \n",
       "41         166900  66000  SUV  \n",
       "42         155200  55000  SUV  \n",
       "49         170400  69000  SUV  \n",
       "56         171000  69000  SUV  \n",
       "57         154100  57000  SUV  \n",
       "75         164700  68000  SUV  \n",
       "76         161800  60000  SUV  \n",
       "87         153500  55000  SUV  \n",
       "98         169300  66000  SUV  \n",
       "99         159100  56000  SUV  \n",
       "103        162300  67000  SUV  \n",
       "111        161100  62000  SUV  \n",
       "116        166500  69000  SUV  \n",
       "117        156900  58000  SUV  \n",
       "130        158900  56000  SUV  \n",
       "131        157700  58000  SUV  \n",
       "277        157900  61000  SUV  \n",
       "329        158200  68000  SUV  "
      ]
     },
     "execution_count": 31,
     "metadata": {},
     "output_type": "execute_result"
    }
   ],
   "source": [
    "df[df['Total_salary'] >upper_limit]"
   ]
  },
  {
   "cell_type": "code",
   "execution_count": null,
   "metadata": {
    "colab": {
     "base_uri": "https://localhost:8080/"
    },
    "executionInfo": {
     "elapsed": 392,
     "status": "ok",
     "timestamp": 1679830804101,
     "user": {
      "displayName": "Kirtika Rudra",
      "userId": "07472214669267027492"
     },
     "user_tz": -330
    },
    "id": "N89aEltcomqV",
    "outputId": "48490205-d9bb-41e8-c61f-b9b140049e72"
   },
   "outputs": [
    {
     "data": {
      "text/plain": [
       "Age                 27\n",
       "Gender              27\n",
       "Profession          27\n",
       "Marital_status      27\n",
       "Education           27\n",
       "No_of_Dependents    27\n",
       "Personal_loan       27\n",
       "House_loan          27\n",
       "Partner_working     27\n",
       "Salary              27\n",
       "Partner_salary      27\n",
       "Total_salary        27\n",
       "Price               27\n",
       "Make                27\n",
       "dtype: int64"
      ]
     },
     "execution_count": 32,
     "metadata": {},
     "output_type": "execute_result"
    }
   ],
   "source": [
    "df[df['Total_salary'] >upper_limit].count()"
   ]
  },
  {
   "cell_type": "markdown",
   "metadata": {
    "id": "wvisVJ2wpYvH"
   },
   "source": [
    "Trimming"
   ]
  },
  {
   "cell_type": "code",
   "execution_count": null,
   "metadata": {
    "colab": {
     "base_uri": "https://localhost:8080/"
    },
    "executionInfo": {
     "elapsed": 653,
     "status": "ok",
     "timestamp": 1679830807667,
     "user": {
      "displayName": "Kirtika Rudra",
      "userId": "07472214669267027492"
     },
     "user_tz": -330
    },
    "id": "gqST38MYpXzE",
    "outputId": "b6830d66-4990-4082-d2c8-f8621cc59ca3"
   },
   "outputs": [
    {
     "data": {
      "text/plain": [
       "(1554, 14)"
      ]
     },
     "execution_count": 33,
     "metadata": {},
     "output_type": "execute_result"
    }
   ],
   "source": [
    "new_df = df[df['Total_salary'] < upper_limit]\n",
    "new_df.shape"
   ]
  },
  {
   "cell_type": "code",
   "execution_count": null,
   "metadata": {
    "colab": {
     "base_uri": "https://localhost:8080/",
     "height": 498
    },
    "executionInfo": {
     "elapsed": 1669,
     "status": "ok",
     "timestamp": 1679762948371,
     "user": {
      "displayName": "Kirtika Rudra",
      "userId": "07472214669267027492"
     },
     "user_tz": -330
    },
    "id": "7fS8uzfxo-XS",
    "outputId": "95643e41-e0a6-400d-c834-1a4ed51668c7"
   },
   "outputs": [
    {
     "data": {
      "image/png": "[encoded data removed]",
      "text/plain": [
       "<Figure size 1152x576 with 4 Axes>"
      ]
     },
     "metadata": {
      "needs_background": "light"
     },
     "output_type": "display_data"
    }
   ],
   "source": [
    "plt.figure(figsize=(16,8))\n",
    "plt.subplot(2,2,1)\n",
    "sns.histplot(df['Total_salary'], kde=True)\n",
    "\n",
    "plt.subplot(2,2,2)\n",
    "sns.boxplot(data = df['Total_salary'])\n",
    "\n",
    "plt.subplot(2,2,3)\n",
    "sns.histplot(new_df['Total_salary'], kde=True)\n",
    "\n",
    "plt.subplot(2,2,4)\n",
    "sns.boxplot(data = new_df, y = 'Total_salary')\n",
    "\n",
    "plt.show()"
   ]
  },
  {
   "cell_type": "markdown",
   "metadata": {
    "id": "H5Oe1Vv2rTyn"
   },
   "source": [
    "Capping"
   ]
  },
  {
   "cell_type": "code",
   "execution_count": null,
   "metadata": {
    "id": "OvxYlrLbrU-7"
   },
   "outputs": [],
   "source": [
    "new_df_cap = df.copy()\n",
    "new_df_cap['Total_salary'] = np.where(\n",
    "    new_df_cap['Total_salary'] > upper_limit,\n",
    "    upper_limit,\n",
    "    np.where(\n",
    "        new_df_cap['Total_salary'] < lower_limit,\n",
    "        lower_limit,\n",
    "        new_df_cap['Total_salary']\n",
    "    )\n",
    ")"
   ]
  },
  {
   "cell_type": "code",
   "execution_count": null,
   "metadata": {
    "colab": {
     "base_uri": "https://localhost:8080/"
    },
    "executionInfo": {
     "elapsed": 457,
     "status": "ok",
     "timestamp": 1679845088058,
     "user": {
      "displayName": "Kirtika Rudra",
      "userId": "07472214669267027492"
     },
     "user_tz": -330
    },
    "id": "MC3X3HTpr2Va",
    "outputId": "d5d5206a-3b7a-4cd3-e65c-38db20b40872"
   },
   "outputs": [
    {
     "data": {
      "text/plain": [
       "(1581, 14)"
      ]
     },
     "execution_count": 38,
     "metadata": {},
     "output_type": "execute_result"
    }
   ],
   "source": [
    "new_df_cap.shape"
   ]
  },
  {
   "cell_type": "code",
   "execution_count": null,
   "metadata": {
    "colab": {
     "base_uri": "https://localhost:8080/"
    },
    "executionInfo": {
     "elapsed": 595,
     "status": "ok",
     "timestamp": 1679830858088,
     "user": {
      "displayName": "Kirtika Rudra",
      "userId": "07472214669267027492"
     },
     "user_tz": -330
    },
    "id": "wvyDdSD0uGeN",
    "outputId": "22b1f1d3-8c84-4062-eba7-518e9f46b28d"
   },
   "outputs": [
    {
     "name": "stdout",
     "output_type": "stream",
     "text": [
      "75th quartile:  95900.0\n",
      "25th quartile:  60500.0\n"
     ]
    }
   ],
   "source": [
    "percentile25 = new_df_cap['Total_salary'].quantile(0.25)\n",
    "percentile75 = new_df_cap['Total_salary'].quantile(0.75)\n",
    "print(\"75th quartile: \",percentile75)\n",
    "print(\"25th quartile: \",percentile25)"
   ]
  },
  {
   "cell_type": "code",
   "execution_count": null,
   "metadata": {
    "colab": {
     "base_uri": "https://localhost:8080/",
     "height": 498
    },
    "executionInfo": {
     "elapsed": 1239,
     "status": "ok",
     "timestamp": 1679763203617,
     "user": {
      "displayName": "Kirtika Rudra",
      "userId": "07472214669267027492"
     },
     "user_tz": -330
    },
    "id": "87PkNPR0r9bP",
    "outputId": "40c7dcd2-8389-4dad-b7d6-4788aa91057b"
   },
   "outputs": [
    {
     "data": {
      "image/png": "[encoded data removed]",
      "text/plain": [
       "<Figure size 1152x576 with 4 Axes>"
      ]
     },
     "metadata": {
      "needs_background": "light"
     },
     "output_type": "display_data"
    }
   ],
   "source": [
    "# Comparing\n",
    "\n",
    "plt.figure(figsize=(16,8))\n",
    "plt.subplot(2,2,1)\n",
    "sns.histplot(df['Total_salary'], kde=True)\n",
    "\n",
    "plt.subplot(2,2,2)\n",
    "sns.boxplot(data = df['Total_salary'])\n",
    "\n",
    "plt.subplot(2,2,3)\n",
    "sns.histplot(new_df_cap['Total_salary'], kde=True)\n",
    "\n",
    "plt.subplot(2,2,4)\n",
    "sns.boxplot(data = new_df_cap['Total_salary'])\n",
    "\n",
    "plt.show()"
   ]
  },
  {
   "cell_type": "code",
   "execution_count": null,
   "metadata": {
    "colab": {
     "base_uri": "https://localhost:8080/",
     "height": 352
    },
    "executionInfo": {
     "elapsed": 1624,
     "status": "ok",
     "timestamp": 1679504959069,
     "user": {
      "displayName": "Kirtika Rudra",
      "userId": "07472214669267027492"
     },
     "user_tz": -330
    },
    "id": "oMztVw-MSqhs",
    "outputId": "8045c4b9-55d8-478d-8117-7e3f7f9e5b57"
   },
   "outputs": [
    {
     "data": {
      "text/plain": [
       "<Axes: xlabel='Partner_salary'>"
      ]
     },
     "execution_count": 56,
     "metadata": {},
     "output_type": "execute_result"
    },
    {
     "data": {
      "image/png": "[encoded data removed]",
      "text/plain": [
       "<Figure size 720x360 with 2 Axes>"
      ]
     },
     "metadata": {
      "needs_background": "light"
     },
     "output_type": "display_data"
    }
   ],
   "source": [
    "fig_dims = (10, 5) \n",
    "fig, axs = plt.subplots(nrows=1, ncols=2, figsize=fig_dims) \n",
    "sns.histplot(df.Partner_salary, kde=False, ax=axs[0]) \n",
    "sns.boxplot(x= 'Partner_salary', data=df, ax=axs[1])"
   ]
  },
  {
   "cell_type": "code",
   "execution_count": null,
   "metadata": {
    "colab": {
     "base_uri": "https://localhost:8080/",
     "height": 352
    },
    "executionInfo": {
     "elapsed": 2018,
     "status": "ok",
     "timestamp": 1679504996076,
     "user": {
      "displayName": "Kirtika Rudra",
      "userId": "07472214669267027492"
     },
     "user_tz": -330
    },
    "id": "H_HPJWiqS9uU",
    "outputId": "80f84ee7-38da-4ab1-a29d-2334758636a0"
   },
   "outputs": [
    {
     "data": {
      "text/plain": [
       "<Axes: xlabel='No_of_Dependents'>"
      ]
     },
     "execution_count": 57,
     "metadata": {},
     "output_type": "execute_result"
    },
    {
     "data": {
      "image/png": "[encoded data removed]",
      "text/plain": [
       "<Figure size 720x360 with 2 Axes>"
      ]
     },
     "metadata": {
      "needs_background": "light"
     },
     "output_type": "display_data"
    }
   ],
   "source": [
    "fig_dims = (10, 5) \n",
    "fig, axs = plt.subplots(nrows=1, ncols=2, figsize=fig_dims) \n",
    "sns.histplot(df.No_of_Dependents, kde=False, ax=axs[0]) \n",
    "sns.boxplot(x= 'No_of_Dependents', data=df, ax=axs[1])"
   ]
  },
  {
   "cell_type": "code",
   "execution_count": null,
   "metadata": {
    "colab": {
     "base_uri": "https://localhost:8080/",
     "height": 354
    },
    "executionInfo": {
     "elapsed": 721,
     "status": "ok",
     "timestamp": 1679829949095,
     "user": {
      "displayName": "Kirtika Rudra",
      "userId": "07472214669267027492"
     },
     "user_tz": -330
    },
    "id": "hq11NSI4TGlk",
    "outputId": "2f4d480a-6735-478f-b65a-f1e39df92ea9"
   },
   "outputs": [
    {
     "data": {
      "text/plain": [
       "<Axes: xlabel='Price'>"
      ]
     },
     "execution_count": 24,
     "metadata": {},
     "output_type": "execute_result"
    },
    {
     "data": {
      "image/png": "[encoded data removed]",
      "text/plain": [
       "<Figure size 720x360 with 2 Axes>"
      ]
     },
     "metadata": {
      "needs_background": "light"
     },
     "output_type": "display_data"
    }
   ],
   "source": [
    "fig_dims = (10, 5) \n",
    "fig, axs = plt.subplots(nrows=1, ncols=2, figsize=fig_dims) \n",
    "sns.histplot(df.Price, kde=True, ax=axs[0]) \n",
    "sns.boxplot(x= 'Price', data=df, ax=axs[1])"
   ]
  },
  {
   "cell_type": "code",
   "execution_count": null,
   "metadata": {
    "colab": {
     "base_uri": "https://localhost:8080/"
    },
    "executionInfo": {
     "elapsed": 615,
     "status": "ok",
     "timestamp": 1679820566624,
     "user": {
      "displayName": "Kirtika Rudra",
      "userId": "07472214669267027492"
     },
     "user_tz": -330
    },
    "id": "zWQ1D7ubGyEg",
    "outputId": "cd866f95-c6fd-4968-db64-f4ca87a4354a"
   },
   "outputs": [
    {
     "data": {
      "text/plain": [
       "70000     2\n",
       "56000     7\n",
       "67000     8\n",
       "65000     8\n",
       "60000     9\n",
       "68000    11\n",
       "59000    11\n",
       "69000    11\n",
       "38000    12\n",
       "63000    12\n",
       "62000    12\n",
       "66000    12\n",
       "40000    12\n",
       "64000    13\n",
       "58000    14\n",
       "42000    15\n",
       "44000    15\n",
       "46000    16\n",
       "41000    16\n",
       "35000    18\n",
       "61000    18\n",
       "47000    19\n",
       "37000    19\n",
       "34000    19\n",
       "55000    20\n",
       "45000    21\n",
       "48000    21\n",
       "57000    22\n",
       "54000    22\n",
       "36000    22\n",
       "43000    25\n",
       "49000    26\n",
       "39000    26\n",
       "53000    26\n",
       "52000    27\n",
       "51000    34\n",
       "50000    35\n",
       "18000    37\n",
       "21000    39\n",
       "19000    45\n",
       "25000    47\n",
       "27000    51\n",
       "29000    52\n",
       "26000    54\n",
       "33000    55\n",
       "22000    55\n",
       "30000    61\n",
       "24000    64\n",
       "28000    67\n",
       "23000    74\n",
       "31000    77\n",
       "20000    79\n",
       "32000    88\n",
       "Name: Price, dtype: int64"
      ]
     },
     "execution_count": 15,
     "metadata": {},
     "output_type": "execute_result"
    }
   ],
   "source": [
    "df['Price'].value_counts(ascending=True)"
   ]
  },
  {
   "cell_type": "code",
   "execution_count": null,
   "metadata": {
    "id": "n3ATP9FXTZYz"
   },
   "outputs": [],
   "source": [
    "df_cat = df.select_dtypes('object')"
   ]
  },
  {
   "cell_type": "code",
   "execution_count": null,
   "metadata": {
    "colab": {
     "base_uri": "https://localhost:8080/",
     "height": 175
    },
    "executionInfo": {
     "elapsed": 909,
     "status": "ok",
     "timestamp": 1679822684097,
     "user": {
      "displayName": "Kirtika Rudra",
      "userId": "07472214669267027492"
     },
     "user_tz": -330
    },
    "id": "SRKVu113Tt1S",
    "outputId": "346f1c11-5253-4126-db3f-1be69a357c9b"
   },
   "outputs": [
    {
     "data": {
      "text/html": [
       "\n",
       "  <div id=\"df-e86d85a8-fd67-4a6d-bbb2-c5a879a22db4\">\n",
       "    <div class=\"colab-df-container\">\n",
       "      <div>\n",
       "<style scoped>\n",
       "    .dataframe tbody tr th:only-of-type {\n",
       "        vertical-align: middle;\n",
       "    }\n",
       "\n",
       "    .dataframe tbody tr th {\n",
       "        vertical-align: top;\n",
       "    }\n",
       "\n",
       "    .dataframe thead th {\n",
       "        text-align: right;\n",
       "    }\n",
       "</style>\n",
       "<table border=\"1\" class=\"dataframe\">\n",
       "  <thead>\n",
       "    <tr style=\"text-align: right;\">\n",
       "      <th></th>\n",
       "      <th>Gender</th>\n",
       "      <th>Profession</th>\n",
       "      <th>Marital_status</th>\n",
       "      <th>Education</th>\n",
       "      <th>Personal_loan</th>\n",
       "      <th>House_loan</th>\n",
       "      <th>Partner_working</th>\n",
       "      <th>Make</th>\n",
       "    </tr>\n",
       "  </thead>\n",
       "  <tbody>\n",
       "    <tr>\n",
       "      <th>count</th>\n",
       "      <td>1581</td>\n",
       "      <td>1581</td>\n",
       "      <td>1581</td>\n",
       "      <td>1581</td>\n",
       "      <td>1581</td>\n",
       "      <td>1581</td>\n",
       "      <td>1581</td>\n",
       "      <td>1581</td>\n",
       "    </tr>\n",
       "    <tr>\n",
       "      <th>unique</th>\n",
       "      <td>3</td>\n",
       "      <td>2</td>\n",
       "      <td>2</td>\n",
       "      <td>2</td>\n",
       "      <td>2</td>\n",
       "      <td>2</td>\n",
       "      <td>2</td>\n",
       "      <td>3</td>\n",
       "    </tr>\n",
       "    <tr>\n",
       "      <th>top</th>\n",
       "      <td>Male</td>\n",
       "      <td>Salaried</td>\n",
       "      <td>Married</td>\n",
       "      <td>Post Graduate</td>\n",
       "      <td>Yes</td>\n",
       "      <td>No</td>\n",
       "      <td>Yes</td>\n",
       "      <td>Sedan</td>\n",
       "    </tr>\n",
       "    <tr>\n",
       "      <th>freq</th>\n",
       "      <td>1199</td>\n",
       "      <td>896</td>\n",
       "      <td>1443</td>\n",
       "      <td>985</td>\n",
       "      <td>792</td>\n",
       "      <td>1054</td>\n",
       "      <td>868</td>\n",
       "      <td>702</td>\n",
       "    </tr>\n",
       "  </tbody>\n",
       "</table>\n",
       "</div>\n",
       "      <button class=\"colab-df-convert\" onclick=\"convertToInteractive('df-e86d85a8-fd67-4a6d-bbb2-c5a879a22db4')\"\n",
       "              title=\"Convert this dataframe to an interactive table.\"\n",
       "              style=\"display:none;\">\n",
       "        \n",
       "  <svg xmlns=\"http://www.w3.org/2000/svg\" height=\"24px\"viewBox=\"0 0 24 24\"\n",
       "       width=\"24px\">\n",
       "    <path d=\"M0 0h24v24H0V0z\" fill=\"none\"/>\n",
       "    <path d=\"M18.56 5.44l.94 2.06.94-2.06 2.06-.94-2.06-.94-.94-2.06-.94 2.06-2.06.94zm-11 1L8.5 8.5l.94-2.06 2.06-.94-2.06-.94L8.5 2.5l-.94 2.06-2.06.94zm10 10l.94 2.06.94-2.06 2.06-.94-2.06-.94-.94-2.06-.94 2.06-2.06.94z\"/><path d=\"M17.41 7.96l-1.37-1.37c-.4-.4-.92-.59-1.43-.59-.52 0-1.04.2-1.43.59L10.3 9.45l-7.72 7.72c-.78.78-.78 2.05 0 2.83L4 21.41c.39.39.9.59 1.41.59.51 0 1.02-.2 1.41-.59l7.78-7.78 2.81-2.81c.8-.78.8-2.07 0-2.86zM5.41 20L4 18.59l7.72-7.72 1.47 1.35L5.41 20z\"/>\n",
       "  </svg>\n",
       "      </button>\n",
       "      \n",
       "  <style>\n",
       "    .colab-df-container {\n",
       "      display:flex;\n",
       "      flex-wrap:wrap;\n",
       "      gap: 12px;\n",
       "    }\n",
       "\n",
       "    .colab-df-convert {\n",
       "      background-color: #E8F0FE;\n",
       "      border: none;\n",
       "      border-radius: 50%;\n",
       "      cursor: pointer;\n",
       "      display: none;\n",
       "      fill: #1967D2;\n",
       "      height: 32px;\n",
       "      padding: 0 0 0 0;\n",
       "      width: 32px;\n",
       "    }\n",
       "\n",
       "    .colab-df-convert:hover {\n",
       "      background-color: #E2EBFA;\n",
       "      box-shadow: 0px 1px 2px rgba(60, 64, 67, 0.3), 0px 1px 3px 1px rgba(60, 64, 67, 0.15);\n",
       "      fill: #174EA6;\n",
       "    }\n",
       "\n",
       "    [theme=dark] .colab-df-convert {\n",
       "      background-color: #3B4455;\n",
       "      fill: #D2E3FC;\n",
       "    }\n",
       "\n",
       "    [theme=dark] .colab-df-convert:hover {\n",
       "      background-color: #434B5C;\n",
       "      box-shadow: 0px 1px 3px 1px rgba(0, 0, 0, 0.15);\n",
       "      filter: drop-shadow(0px 1px 2px rgba(0, 0, 0, 0.3));\n",
       "      fill: #FFFFFF;\n",
       "    }\n",
       "  </style>\n",
       "\n",
       "      <script>\n",
       "        const buttonEl =\n",
       "          document.querySelector('#df-e86d85a8-fd67-4a6d-bbb2-c5a879a22db4 button.colab-df-convert');\n",
       "        buttonEl.style.display =\n",
       "          google.colab.kernel.accessAllowed ? 'block' : 'none';\n",
       "\n",
       "        async function convertToInteractive(key) {\n",
       "          const element = document.querySelector('#df-e86d85a8-fd67-4a6d-bbb2-c5a879a22db4');\n",
       "          const dataTable =\n",
       "            await google.colab.kernel.invokeFunction('convertToInteractive',\n",
       "                                                     [key], {});\n",
       "          if (!dataTable) return;\n",
       "\n",
       "          const docLinkHtml = 'Like what you see? Visit the ' +\n",
       "            '<a target=\"_blank\" href=https://colab.research.google.com/notebooks/data_table.ipynb>data table notebook</a>'\n",
       "            + ' to learn more about interactive tables.';\n",
       "          element.innerHTML = '';\n",
       "          dataTable['output_type'] = 'display_data';\n",
       "          await google.colab.output.renderOutput(dataTable, element);\n",
       "          const docLink = document.createElement('div');\n",
       "          docLink.innerHTML = docLinkHtml;\n",
       "          element.appendChild(docLink);\n",
       "        }\n",
       "      </script>\n",
       "    </div>\n",
       "  </div>\n",
       "  "
      ],
      "text/plain": [
       "       Gender Profession Marital_status      Education Personal_loan  \\\n",
       "count    1581       1581           1581           1581          1581   \n",
       "unique      3          2              2              2             2   \n",
       "top      Male   Salaried        Married  Post Graduate           Yes   \n",
       "freq     1199        896           1443            985           792   \n",
       "\n",
       "       House_loan Partner_working   Make  \n",
       "count        1581            1581   1581  \n",
       "unique          2               2      3  \n",
       "top            No             Yes  Sedan  \n",
       "freq         1054             868    702  "
      ]
     },
     "execution_count": 23,
     "metadata": {},
     "output_type": "execute_result"
    }
   ],
   "source": [
    "df_cat.describe(include='all')"
   ]
  },
  {
   "cell_type": "markdown",
   "metadata": {
    "id": "q3P2qkepJRys"
   },
   "source": [
    "#Insights\n",
    "\n",
    "\n",
    "> The Data has more male customers.\n",
    "> The Majority of the customers are married.\n",
    "> They are post graduate and salaried.\n",
    "> They have a working partner.\n",
    "> These customers are interested in Sedan and do not have any house loan.\n",
    "\n"
   ]
  },
  {
   "cell_type": "code",
   "execution_count": null,
   "metadata": {
    "colab": {
     "base_uri": "https://localhost:8080/",
     "height": 624
    },
    "executionInfo": {
     "elapsed": 1084,
     "status": "ok",
     "timestamp": 1679822559122,
     "user": {
      "displayName": "Kirtika Rudra",
      "userId": "07472214669267027492"
     },
     "user_tz": -330
    },
    "id": "6Av2USFYGfOt",
    "outputId": "e4072b2e-f9b7-4453-f129-09ddb46f5221"
   },
   "outputs": [
    {
     "data": {
      "text/plain": [
       "<Axes: xlabel='Gender', ylabel='count'>"
      ]
     },
     "execution_count": 20,
     "metadata": {},
     "output_type": "execute_result"
    },
    {
     "data": {
      "image/png": "[encoded data removed]",
      "text/plain": [
       "<Figure size 1440x720 with 6 Axes>"
      ]
     },
     "metadata": {
      "needs_background": "light"
     },
     "output_type": "display_data"
    }
   ],
   "source": [
    "fig_dims = (20, 10) \n",
    "fig, axs = plt.subplots(nrows=2, ncols=3, figsize=fig_dims) \n",
    "sns.countplot(x=\"Make\", data=df, ax=axs[0][0])\n",
    "sns.countplot(x=\"Education\", data=df, ax=axs[0][1])\n",
    "sns.countplot(x=\"Partner_working\", data=df, ax=axs[0][2])\n",
    "sns.countplot(x=\"Marital_status\", data=df, ax=axs[1][0])\n",
    "sns.countplot(x=\"Profession\", data=df, ax=axs[1][1])\n",
    "sns.countplot(x=\"Gender\", data=df, ax=axs[1][2])"
   ]
  },
  {
   "cell_type": "code",
   "execution_count": null,
   "metadata": {
    "colab": {
     "base_uri": "https://localhost:8080/",
     "height": 614
    },
    "executionInfo": {
     "elapsed": 1063,
     "status": "ok",
     "timestamp": 1679831136876,
     "user": {
      "displayName": "Kirtika Rudra",
      "userId": "07472214669267027492"
     },
     "user_tz": -330
    },
    "id": "2bhISKMFu5r6",
    "outputId": "0d1501dd-fa66-4dd2-feb0-41546edf8b6f"
   },
   "outputs": [
    {
     "data": {
      "text/plain": [
       "<Axes: xlabel='Personal_loan', ylabel='count'>"
      ]
     },
     "execution_count": 41,
     "metadata": {},
     "output_type": "execute_result"
    },
    {
     "data": {
      "image/png": "[encoded data removed]",
      "text/plain": [
       "<Figure size 1440x720 with 6 Axes>"
      ]
     },
     "metadata": {
      "needs_background": "light"
     },
     "output_type": "display_data"
    }
   ],
   "source": [
    "fig_dims = (20, 10) \n",
    "fig, axs = plt.subplots(nrows=2, ncols=3, figsize=fig_dims)\n",
    "sns.countplot(x=\"House_loan\", data=df, ax=axs[0][0])\n",
    "sns.countplot(x=\"Personal_loan\", data=df, ax=axs[0][1])"
   ]
  },
  {
   "cell_type": "markdown",
   "metadata": {
    "id": "XTGSgCvr5zM8"
   },
   "source": [
    "\n",
    "\n",
    "*   Most selling - Sedan>Hatchback>SUV\n",
    "*   Most people married & partner working\n",
    "*   Salaried>Business\n",
    "*   Male>Female\n",
    "\n",
    "\n",
    "\n"
   ]
  },
  {
   "cell_type": "markdown",
   "metadata": {
    "id": "j_IzqMAU61Sl"
   },
   "source": [
    "#Bivariate Analysis"
   ]
  },
  {
   "cell_type": "code",
   "execution_count": null,
   "metadata": {
    "colab": {
     "base_uri": "https://localhost:8080/",
     "height": 624
    },
    "executionInfo": {
     "elapsed": 1540,
     "status": "ok",
     "timestamp": 1679822518106,
     "user": {
      "displayName": "Kirtika Rudra",
      "userId": "07472214669267027492"
     },
     "user_tz": -330
    },
    "id": "ivUudDl35OBd",
    "outputId": "86f99c3e-8a77-4f45-9ec7-5e2e36ef5767"
   },
   "outputs": [
    {
     "data": {
      "text/plain": [
       "<Axes: xlabel='No_of_Dependents', ylabel='count'>"
      ]
     },
     "execution_count": 19,
     "metadata": {},
     "output_type": "execute_result"
    },
    {
     "data": {
      "image/png": "[encoded data removed]",
      "text/plain": [
       "<Figure size 1440x720 with 6 Axes>"
      ]
     },
     "metadata": {
      "needs_background": "light"
     },
     "output_type": "display_data"
    }
   ],
   "source": [
    "fig_dims = (20, 10) \n",
    "fig, axs = plt.subplots(nrows=2, ncols=3, figsize=fig_dims) \n",
    "sns.countplot(x='Gender', hue='Make', data=df, ax=axs[0][0])\n",
    "sns.countplot(x='Education', hue='Make', data=df, ax=axs[0][1])\n",
    "sns.countplot(x='Profession', hue='Make', data=df, ax=axs[0][2])\n",
    "sns.countplot(x='Marital_status', hue='Make', data=df, ax=axs[1][0])\n",
    "sns.countplot(x='Partner_working', hue='Make', data=df, ax=axs[1][1])\n",
    "sns.countplot(x='No_of_Dependents', hue='Make', data=df, ax=axs[1][2])\n",
    "##sns.countplot(x='House_loan', hue='Make', data=df, ax=axs[0][0])\n",
    "##sns.countplot(x='Personal_loan', hue='Make', data=df, ax=axs[0][0])"
   ]
  },
  {
   "cell_type": "code",
   "execution_count": null,
   "metadata": {
    "colab": {
     "base_uri": "https://localhost:8080/",
     "height": 297
    },
    "executionInfo": {
     "elapsed": 934,
     "status": "ok",
     "timestamp": 1679844694697,
     "user": {
      "displayName": "Kirtika Rudra",
      "userId": "07472214669267027492"
     },
     "user_tz": -330
    },
    "id": "wg8b7Fo1ixws",
    "outputId": "675f20e7-a007-47e9-9047-34609380dd72"
   },
   "outputs": [
    {
     "data": {
      "text/plain": [
       "<Axes: xlabel='Gender', ylabel='count'>"
      ]
     },
     "execution_count": 29,
     "metadata": {},
     "output_type": "execute_result"
    },
    {
     "data": {
      "image/png": "[encoded data removed]",
      "text/plain": [
       "<Figure size 432x288 with 1 Axes>"
      ]
     },
     "metadata": {
      "needs_background": "light"
     },
     "output_type": "display_data"
    }
   ],
   "source": [
    "sns.countplot(x='Gender', hue='Marital_status', data=df)"
   ]
  },
  {
   "cell_type": "code",
   "execution_count": null,
   "metadata": {
    "colab": {
     "base_uri": "https://localhost:8080/",
     "height": 614
    },
    "executionInfo": {
     "elapsed": 1892,
     "status": "ok",
     "timestamp": 1679650393008,
     "user": {
      "displayName": "Kirtika Rudra",
      "userId": "07472214669267027492"
     },
     "user_tz": -330
    },
    "id": "qH60hpsg8k6x",
    "outputId": "7468c1c2-6b6c-421d-99dd-be60ac199947"
   },
   "outputs": [
    {
     "data": {
      "text/plain": [
       "<Axes: xlabel='Personal_loan', ylabel='count'>"
      ]
     },
     "execution_count": 23,
     "metadata": {},
     "output_type": "execute_result"
    },
    {
     "data": {
      "image/png": "[encoded data removed]",
      "text/plain": [
       "<Figure size 1440x720 with 6 Axes>"
      ]
     },
     "metadata": {
      "needs_background": "light"
     },
     "output_type": "display_data"
    }
   ],
   "source": [
    "fig_dims = (20, 10) \n",
    "fig, axs = plt.subplots(nrows=2, ncols=3, figsize=fig_dims) \n",
    "sns.countplot(x='House_loan', hue='Make', data=df, ax=axs[0][0])\n",
    "sns.countplot(x='Personal_loan', hue='Make', data=df, ax=axs[0][1])"
   ]
  },
  {
   "cell_type": "code",
   "execution_count": null,
   "metadata": {
    "colab": {
     "base_uri": "https://localhost:8080/",
     "height": 298
    },
    "executionInfo": {
     "elapsed": 1945,
     "status": "ok",
     "timestamp": 1679841857852,
     "user": {
      "displayName": "Kirtika Rudra",
      "userId": "07472214669267027492"
     },
     "user_tz": -330
    },
    "id": "ZCJjildEXPf8",
    "outputId": "8e9dd5dd-dcfc-4eea-cb1b-4282feb198df"
   },
   "outputs": [
    {
     "data": {
      "text/plain": [
       "<Axes: xlabel='No_of_Dependents', ylabel='Total_salary'>"
      ]
     },
     "execution_count": 10,
     "metadata": {},
     "output_type": "execute_result"
    },
    {
     "data": {
      "image/png": "[encoded data removed]",
      "text/plain": [
       "<Figure size 432x288 with 1 Axes>"
      ]
     },
     "metadata": {
      "needs_background": "light"
     },
     "output_type": "display_data"
    }
   ],
   "source": [
    "sns.barplot(data=df, x='No_of_Dependents', y='Total_salary', hue='Make')"
   ]
  },
  {
   "cell_type": "code",
   "execution_count": null,
   "metadata": {
    "id": "awhH5gcMXZDN"
   },
   "outputs": [],
   "source": []
  },
  {
   "cell_type": "code",
   "execution_count": null,
   "metadata": {
    "colab": {
     "base_uri": "https://localhost:8080/",
     "height": 297
    },
    "executionInfo": {
     "elapsed": 1354,
     "status": "ok",
     "timestamp": 1679656412603,
     "user": {
      "displayName": "Kirtika Rudra",
      "userId": "07472214669267027492"
     },
     "user_tz": -330
    },
    "id": "nsUi9wjx9oPB",
    "outputId": "95caf468-798a-4a8d-d838-814860238bc9"
   },
   "outputs": [
    {
     "data": {
      "text/plain": [
       "<Axes: xlabel='Gender', ylabel='Price'>"
      ]
     },
     "execution_count": 38,
     "metadata": {},
     "output_type": "execute_result"
    },
    {
     "data": {
      "image/png": "[encoded data removed]",
      "text/plain": [
       "<Figure size 432x288 with 1 Axes>"
      ]
     },
     "metadata": {
      "needs_background": "light"
     },
     "output_type": "display_data"
    }
   ],
   "source": [
    "sns.boxplot(x=\"Gender\", y='Price', hue='Personal_loan', data=df, )"
   ]
  },
  {
   "cell_type": "code",
   "execution_count": null,
   "metadata": {
    "colab": {
     "base_uri": "https://localhost:8080/",
     "height": 497
    },
    "executionInfo": {
     "elapsed": 1334,
     "status": "ok",
     "timestamp": 1679657350923,
     "user": {
      "displayName": "Kirtika Rudra",
      "userId": "07472214669267027492"
     },
     "user_tz": -330
    },
    "id": "R9XB1_jFVfMK",
    "outputId": "d0993594-26b9-42f6-b610-4cdeb202e1df"
   },
   "outputs": [
    {
     "data": {
      "image/png": "[encoded data removed]",
      "text/plain": [
       "<Figure size 576x576 with 1 Axes>"
      ]
     },
     "metadata": {
      "needs_background": "light"
     },
     "output_type": "display_data"
    }
   ],
   "source": [
    "plt.figure(figsize=(8, 8))\n",
    "plots = sns.barplot(x='Gender', y='Price', hue='Make', data=df)\n",
    "for bar in plots.patches:\n",
    " plots.annotate(format(bar.get_height(), '.2f'),\n",
    "                   (bar.get_x() + bar.get_width() / 2,\n",
    "                    bar.get_height()), ha='center', va='center',\n",
    "                   size=12, xytext=(0, 8),\n",
    "                   textcoords='offset points')"
   ]
  },
  {
   "cell_type": "code",
   "execution_count": null,
   "metadata": {
    "colab": {
     "base_uri": "https://localhost:8080/",
     "height": 498
    },
    "executionInfo": {
     "elapsed": 1241,
     "status": "ok",
     "timestamp": 1679657396479,
     "user": {
      "displayName": "Kirtika Rudra",
      "userId": "07472214669267027492"
     },
     "user_tz": -330
    },
    "id": "RpVpFAeVW4Pm",
    "outputId": "4eb2351b-8e91-4010-e6ae-9712b6d9dc2b"
   },
   "outputs": [
    {
     "data": {
      "image/png": "[encoded data removed]",
      "text/plain": [
       "<Figure size 576x576 with 1 Axes>"
      ]
     },
     "metadata": {
      "needs_background": "light"
     },
     "output_type": "display_data"
    }
   ],
   "source": [
    "plt.figure(figsize=(8, 8))\n",
    "plots = sns.barplot(x='Personal_loan', y='Price', hue='Make', data=df)\n",
    "for bar in plots.patches:\n",
    " plots.annotate(format(bar.get_height(), '.2f'),\n",
    "                   (bar.get_x() + bar.get_width() / 2,\n",
    "                    bar.get_height()), ha='center', va='center',\n",
    "                   size=12, xytext=(0, 8),\n",
    "                   textcoords='offset points')"
   ]
  },
  {
   "cell_type": "code",
   "execution_count": null,
   "metadata": {
    "colab": {
     "base_uri": "https://localhost:8080/",
     "height": 297
    },
    "executionInfo": {
     "elapsed": 985,
     "status": "ok",
     "timestamp": 1679842335993,
     "user": {
      "displayName": "Kirtika Rudra",
      "userId": "07472214669267027492"
     },
     "user_tz": -330
    },
    "id": "yDyHdSgwZoYk",
    "outputId": "434a7235-2235-4eca-96f7-d11e866d84a6"
   },
   "outputs": [
    {
     "data": {
      "text/plain": [
       "<Axes: xlabel='Gender', ylabel='Total_salary'>"
      ]
     },
     "execution_count": 16,
     "metadata": {},
     "output_type": "execute_result"
    },
    {
     "data": {
      "image/png": "[encoded data removed]",
      "text/plain": [
       "<Figure size 432x288 with 1 Axes>"
      ]
     },
     "metadata": {
      "needs_background": "light"
     },
     "output_type": "display_data"
    }
   ],
   "source": [
    "sns.barplot(data=df, x='Gender', y='Total_salary', hue='Make')"
   ]
  },
  {
   "cell_type": "code",
   "execution_count": null,
   "metadata": {
    "colab": {
     "base_uri": "https://localhost:8080/",
     "height": 297
    },
    "executionInfo": {
     "elapsed": 970,
     "status": "ok",
     "timestamp": 1679842589577,
     "user": {
      "displayName": "Kirtika Rudra",
      "userId": "07472214669267027492"
     },
     "user_tz": -330
    },
    "id": "x-GDM4uKa0js",
    "outputId": "8c3a12d7-41ad-40f2-c5b2-1175be4b2ea2"
   },
   "outputs": [
    {
     "data": {
      "text/plain": [
       "<Axes: xlabel='Make', ylabel='Price'>"
      ]
     },
     "execution_count": 20,
     "metadata": {},
     "output_type": "execute_result"
    },
    {
     "data": {
      "image/png": "[encoded data removed]",
      "text/plain": [
       "<Figure size 432x288 with 1 Axes>"
      ]
     },
     "metadata": {
      "needs_background": "light"
     },
     "output_type": "display_data"
    }
   ],
   "source": [
    "sns.barplot(data=df, x='Make', y='Price')"
   ]
  },
  {
   "cell_type": "code",
   "execution_count": null,
   "metadata": {
    "colab": {
     "base_uri": "https://localhost:8080/",
     "height": 237
    },
    "executionInfo": {
     "elapsed": 647,
     "status": "ok",
     "timestamp": 1679842377575,
     "user": {
      "displayName": "Kirtika Rudra",
      "userId": "07472214669267027492"
     },
     "user_tz": -330
    },
    "id": "u6t1ru76aGAd",
    "outputId": "efb01b8f-a47a-4020-8c34-b09c89045b80"
   },
   "outputs": [
    {
     "data": {
      "text/html": [
       "\n",
       "  <div id=\"df-0e031c8b-a67c-4c84-9660-f1efea2bc424\">\n",
       "    <div class=\"colab-df-container\">\n",
       "      <div>\n",
       "<style scoped>\n",
       "    .dataframe tbody tr th:only-of-type {\n",
       "        vertical-align: middle;\n",
       "    }\n",
       "\n",
       "    .dataframe tbody tr th {\n",
       "        vertical-align: top;\n",
       "    }\n",
       "\n",
       "    .dataframe thead th {\n",
       "        text-align: right;\n",
       "    }\n",
       "</style>\n",
       "<table border=\"1\" class=\"dataframe\">\n",
       "  <thead>\n",
       "    <tr style=\"text-align: right;\">\n",
       "      <th></th>\n",
       "      <th>Age</th>\n",
       "      <th>No_of_Dependents</th>\n",
       "      <th>Salary</th>\n",
       "      <th>Partner_salary</th>\n",
       "      <th>Total_salary</th>\n",
       "      <th>Price</th>\n",
       "    </tr>\n",
       "  </thead>\n",
       "  <tbody>\n",
       "    <tr>\n",
       "      <th>Age</th>\n",
       "      <td>1.000000</td>\n",
       "      <td>-0.189614</td>\n",
       "      <td>0.616899</td>\n",
       "      <td>0.135702</td>\n",
       "      <td>0.458869</td>\n",
       "      <td>0.797831</td>\n",
       "    </tr>\n",
       "    <tr>\n",
       "      <th>No_of_Dependents</th>\n",
       "      <td>-0.189614</td>\n",
       "      <td>1.000000</td>\n",
       "      <td>-0.031746</td>\n",
       "      <td>0.144320</td>\n",
       "      <td>0.092890</td>\n",
       "      <td>-0.135839</td>\n",
       "    </tr>\n",
       "    <tr>\n",
       "      <th>Salary</th>\n",
       "      <td>0.616899</td>\n",
       "      <td>-0.031746</td>\n",
       "      <td>1.000000</td>\n",
       "      <td>0.087155</td>\n",
       "      <td>0.641560</td>\n",
       "      <td>0.409920</td>\n",
       "    </tr>\n",
       "    <tr>\n",
       "      <th>Partner_salary</th>\n",
       "      <td>0.135702</td>\n",
       "      <td>0.144320</td>\n",
       "      <td>0.087155</td>\n",
       "      <td>1.000000</td>\n",
       "      <td>0.820069</td>\n",
       "      <td>0.171875</td>\n",
       "    </tr>\n",
       "    <tr>\n",
       "      <th>Total_salary</th>\n",
       "      <td>0.458869</td>\n",
       "      <td>0.092890</td>\n",
       "      <td>0.641560</td>\n",
       "      <td>0.820069</td>\n",
       "      <td>1.000000</td>\n",
       "      <td>0.367823</td>\n",
       "    </tr>\n",
       "    <tr>\n",
       "      <th>Price</th>\n",
       "      <td>0.797831</td>\n",
       "      <td>-0.135839</td>\n",
       "      <td>0.409920</td>\n",
       "      <td>0.171875</td>\n",
       "      <td>0.367823</td>\n",
       "      <td>1.000000</td>\n",
       "    </tr>\n",
       "  </tbody>\n",
       "</table>\n",
       "</div>\n",
       "      <button class=\"colab-df-convert\" onclick=\"convertToInteractive('df-0e031c8b-a67c-4c84-9660-f1efea2bc424')\"\n",
       "              title=\"Convert this dataframe to an interactive table.\"\n",
       "              style=\"display:none;\">\n",
       "        \n",
       "  <svg xmlns=\"http://www.w3.org/2000/svg\" height=\"24px\"viewBox=\"0 0 24 24\"\n",
       "       width=\"24px\">\n",
       "    <path d=\"M0 0h24v24H0V0z\" fill=\"none\"/>\n",
       "    <path d=\"M18.56 5.44l.94 2.06.94-2.06 2.06-.94-2.06-.94-.94-2.06-.94 2.06-2.06.94zm-11 1L8.5 8.5l.94-2.06 2.06-.94-2.06-.94L8.5 2.5l-.94 2.06-2.06.94zm10 10l.94 2.06.94-2.06 2.06-.94-2.06-.94-.94-2.06-.94 2.06-2.06.94z\"/><path d=\"M17.41 7.96l-1.37-1.37c-.4-.4-.92-.59-1.43-.59-.52 0-1.04.2-1.43.59L10.3 9.45l-7.72 7.72c-.78.78-.78 2.05 0 2.83L4 21.41c.39.39.9.59 1.41.59.51 0 1.02-.2 1.41-.59l7.78-7.78 2.81-2.81c.8-.78.8-2.07 0-2.86zM5.41 20L4 18.59l7.72-7.72 1.47 1.35L5.41 20z\"/>\n",
       "  </svg>\n",
       "      </button>\n",
       "      \n",
       "  <style>\n",
       "    .colab-df-container {\n",
       "      display:flex;\n",
       "      flex-wrap:wrap;\n",
       "      gap: 12px;\n",
       "    }\n",
       "\n",
       "    .colab-df-convert {\n",
       "      background-color: #E8F0FE;\n",
       "      border: none;\n",
       "      border-radius: 50%;\n",
       "      cursor: pointer;\n",
       "      display: none;\n",
       "      fill: #1967D2;\n",
       "      height: 32px;\n",
       "      padding: 0 0 0 0;\n",
       "      width: 32px;\n",
       "    }\n",
       "\n",
       "    .colab-df-convert:hover {\n",
       "      background-color: #E2EBFA;\n",
       "      box-shadow: 0px 1px 2px rgba(60, 64, 67, 0.3), 0px 1px 3px 1px rgba(60, 64, 67, 0.15);\n",
       "      fill: #174EA6;\n",
       "    }\n",
       "\n",
       "    [theme=dark] .colab-df-convert {\n",
       "      background-color: #3B4455;\n",
       "      fill: #D2E3FC;\n",
       "    }\n",
       "\n",
       "    [theme=dark] .colab-df-convert:hover {\n",
       "      background-color: #434B5C;\n",
       "      box-shadow: 0px 1px 3px 1px rgba(0, 0, 0, 0.15);\n",
       "      filter: drop-shadow(0px 1px 2px rgba(0, 0, 0, 0.3));\n",
       "      fill: #FFFFFF;\n",
       "    }\n",
       "  </style>\n",
       "\n",
       "      <script>\n",
       "        const buttonEl =\n",
       "          document.querySelector('#df-0e031c8b-a67c-4c84-9660-f1efea2bc424 button.colab-df-convert');\n",
       "        buttonEl.style.display =\n",
       "          google.colab.kernel.accessAllowed ? 'block' : 'none';\n",
       "\n",
       "        async function convertToInteractive(key) {\n",
       "          const element = document.querySelector('#df-0e031c8b-a67c-4c84-9660-f1efea2bc424');\n",
       "          const dataTable =\n",
       "            await google.colab.kernel.invokeFunction('convertToInteractive',\n",
       "                                                     [key], {});\n",
       "          if (!dataTable) return;\n",
       "\n",
       "          const docLinkHtml = 'Like what you see? Visit the ' +\n",
       "            '<a target=\"_blank\" href=https://colab.research.google.com/notebooks/data_table.ipynb>data table notebook</a>'\n",
       "            + ' to learn more about interactive tables.';\n",
       "          element.innerHTML = '';\n",
       "          dataTable['output_type'] = 'display_data';\n",
       "          await google.colab.output.renderOutput(dataTable, element);\n",
       "          const docLink = document.createElement('div');\n",
       "          docLink.innerHTML = docLinkHtml;\n",
       "          element.appendChild(docLink);\n",
       "        }\n",
       "      </script>\n",
       "    </div>\n",
       "  </div>\n",
       "  "
      ],
      "text/plain": [
       "                       Age  No_of_Dependents    Salary  Partner_salary  \\\n",
       "Age               1.000000         -0.189614  0.616899        0.135702   \n",
       "No_of_Dependents -0.189614          1.000000 -0.031746        0.144320   \n",
       "Salary            0.616899         -0.031746  1.000000        0.087155   \n",
       "Partner_salary    0.135702          0.144320  0.087155        1.000000   \n",
       "Total_salary      0.458869          0.092890  0.641560        0.820069   \n",
       "Price             0.797831         -0.135839  0.409920        0.171875   \n",
       "\n",
       "                  Total_salary     Price  \n",
       "Age                   0.458869  0.797831  \n",
       "No_of_Dependents      0.092890 -0.135839  \n",
       "Salary                0.641560  0.409920  \n",
       "Partner_salary        0.820069  0.171875  \n",
       "Total_salary          1.000000  0.367823  \n",
       "Price                 0.367823  1.000000  "
      ]
     },
     "execution_count": 17,
     "metadata": {},
     "output_type": "execute_result"
    }
   ],
   "source": [
    "df.corr()"
   ]
  },
  {
   "cell_type": "code",
   "execution_count": null,
   "metadata": {
    "colab": {
     "base_uri": "https://localhost:8080/",
     "height": 868
    },
    "executionInfo": {
     "elapsed": 2146,
     "status": "ok",
     "timestamp": 1679842419323,
     "user": {
      "displayName": "Kirtika Rudra",
      "userId": "07472214669267027492"
     },
     "user_tz": -330
    },
    "id": "R4esoAj5aQY0",
    "outputId": "0d2d2a13-5b17-4e3e-ce72-eb496cecaa89"
   },
   "outputs": [
    {
     "data": {
      "image/png": "[encoded data removed]",
      "text/plain": [
       "<Figure size 1080x1080 with 2 Axes>"
      ]
     },
     "metadata": {
      "needs_background": "light"
     },
     "output_type": "display_data"
    }
   ],
   "source": [
    "plt.figure(figsize=(15,15))\n",
    "sns.heatmap(df.corr(),annot=True,fmt=\".2f\");"
   ]
  },
  {
   "cell_type": "code",
   "execution_count": null,
   "metadata": {
    "colab": {
     "base_uri": "https://localhost:8080/",
     "height": 886
    },
    "executionInfo": {
     "elapsed": 1003,
     "status": "ok",
     "timestamp": 1679845094531,
     "user": {
      "displayName": "Kirtika Rudra",
      "userId": "07472214669267027492"
     },
     "user_tz": -330
    },
    "id": "Jo_XHiaphoSk",
    "outputId": "25702e17-1e1e-45d4-9962-82e928ef1014"
   },
   "outputs": [
    {
     "data": {
      "text/plain": [
       "<Axes: >"
      ]
     },
     "execution_count": 39,
     "metadata": {},
     "output_type": "execute_result"
    },
    {
     "data": {
      "image/png": "[encoded data removed]",
      "text/plain": [
       "<Figure size 1080x1080 with 2 Axes>"
      ]
     },
     "metadata": {
      "needs_background": "light"
     },
     "output_type": "display_data"
    }
   ],
   "source": [
    "plt.figure(figsize=(15,15))\n",
    "sns.heatmap(new_df_cap.corr(),annot=True,fmt=\".2f\")"
   ]
  },
  {
   "cell_type": "code",
   "execution_count": null,
   "metadata": {
    "colab": {
     "base_uri": "https://localhost:8080/",
     "height": 497
    },
    "executionInfo": {
     "elapsed": 717,
     "status": "ok",
     "timestamp": 1679821679762,
     "user": {
      "displayName": "Kirtika Rudra",
      "userId": "07472214669267027492"
     },
     "user_tz": -330
    },
    "id": "LfVw8Q8ZYeC8",
    "outputId": "75c7f1f8-7aaf-44ff-daec-cc925efd7976"
   },
   "outputs": [
    {
     "data": {
      "image/png": "[encoded data removed]",
      "text/plain": [
       "<Figure size 576x576 with 1 Axes>"
      ]
     },
     "metadata": {
      "needs_background": "light"
     },
     "output_type": "display_data"
    }
   ],
   "source": [
    "plt.figure(figsize=(8, 8))\n",
    "plots = sns.barplot(x='Make', y='Price', hue='Partner_working', data=df)\n",
    "for bar in plots.patches:\n",
    " plots.annotate(format(bar.get_height(), '.2f'),\n",
    "                   (bar.get_x() + bar.get_width() / 2,\n",
    "                    bar.get_height()), ha='center', va='center',\n",
    "                   size=12, xytext=(0, 8),\n",
    "                   textcoords='offset points')"
   ]
  },
  {
   "cell_type": "code",
   "execution_count": null,
   "metadata": {
    "id": "LwtCK9zQmq8k"
   },
   "outputs": [],
   "source": [
    "sns.heatmap(data)"
   ]
  },
  {
   "cell_type": "code",
   "execution_count": null,
   "metadata": {
    "colab": {
     "base_uri": "https://localhost:8080/",
     "height": 297
    },
    "executionInfo": {
     "elapsed": 1240,
     "status": "ok",
     "timestamp": 1679657598104,
     "user": {
      "displayName": "Kirtika Rudra",
      "userId": "07472214669267027492"
     },
     "user_tz": -330
    },
    "id": "teUbPhkVYuMG",
    "outputId": "d02d6fcb-6e78-4f86-f047-9bc951f3fd47"
   },
   "outputs": [
    {
     "data": {
      "text/plain": [
       "<Axes: xlabel='Gender', ylabel='Price'>"
      ]
     },
     "execution_count": 58,
     "metadata": {},
     "output_type": "execute_result"
    },
    {
     "data": {
      "image/png": "[encoded data removed]",
      "text/plain": [
       "<Figure size 432x288 with 1 Axes>"
      ]
     },
     "metadata": {
      "needs_background": "light"
     },
     "output_type": "display_data"
    }
   ],
   "source": [
    "sns.barplot(x='Gender', y='Price', hue='Marital_status', data=df)"
   ]
  },
  {
   "cell_type": "code",
   "execution_count": null,
   "metadata": {
    "colab": {
     "base_uri": "https://localhost:8080/",
     "height": 297
    },
    "executionInfo": {
     "elapsed": 446,
     "status": "ok",
     "timestamp": 1679657805603,
     "user": {
      "displayName": "Kirtika Rudra",
      "userId": "07472214669267027492"
     },
     "user_tz": -330
    },
    "id": "iB4I4TghZM-d",
    "outputId": "112efd10-4af1-4c6a-e756-98403467b0e7"
   },
   "outputs": [
    {
     "data": {
      "text/plain": [
       "<Axes: xlabel='Make', ylabel='Price'>"
      ]
     },
     "execution_count": 59,
     "metadata": {},
     "output_type": "execute_result"
    },
    {
     "data": {
      "image/png": "[encoded data removed]",
      "text/plain": [
       "<Figure size 432x288 with 1 Axes>"
      ]
     },
     "metadata": {
      "needs_background": "light"
     },
     "output_type": "display_data"
    }
   ],
   "source": [
    "sns.barplot(x='Make', y='Price', data=df)"
   ]
  },
  {
   "cell_type": "code",
   "execution_count": null,
   "metadata": {
    "colab": {
     "base_uri": "https://localhost:8080/",
     "height": 300
    },
    "executionInfo": {
     "elapsed": 2357,
     "status": "ok",
     "timestamp": 1679676038716,
     "user": {
      "displayName": "Kirtika Rudra",
      "userId": "07472214669267027492"
     },
     "user_tz": -330
    },
    "id": "1Nwb55eBaCMC",
    "outputId": "e1a54167-6280-47e6-e8ba-401cb7498f12"
   },
   "outputs": [
    {
     "data": {
      "text/plain": [
       "<Axes: xlabel='Make', ylabel='Price'>"
      ]
     },
     "execution_count": 10,
     "metadata": {},
     "output_type": "execute_result"
    },
    {
     "data": {
      "image/png": "[encoded data removed]",
      "text/plain": [
       "<Figure size 432x288 with 1 Axes>"
      ]
     },
     "metadata": {
      "needs_background": "light"
     },
     "output_type": "display_data"
    }
   ],
   "source": [
    "sns.barplot(x='Make', y='Price', hue='Partner_working', data=df)"
   ]
  },
  {
   "cell_type": "code",
   "execution_count": null,
   "metadata": {
    "colab": {
     "base_uri": "https://localhost:8080/",
     "height": 300
    },
    "executionInfo": {
     "elapsed": 1270,
     "status": "ok",
     "timestamp": 1679676332348,
     "user": {
      "displayName": "Kirtika Rudra",
      "userId": "07472214669267027492"
     },
     "user_tz": -330
    },
    "id": "9tiNqx-AgoZz",
    "outputId": "32353ba9-70e7-45ab-f7e5-46a2189c289d"
   },
   "outputs": [
    {
     "data": {
      "text/plain": [
       "<Axes: xlabel='Partner_working', ylabel='Price'>"
      ]
     },
     "execution_count": 11,
     "metadata": {},
     "output_type": "execute_result"
    },
    {
     "data": {
      "image/png": "[encoded data removed]",
      "text/plain": [
       "<Figure size 432x288 with 1 Axes>"
      ]
     },
     "metadata": {
      "needs_background": "light"
     },
     "output_type": "display_data"
    }
   ],
   "source": [
    "sns.barplot(x='Partner_working', y='Price', hue='Make', data=df)"
   ]
  },
  {
   "cell_type": "code",
   "execution_count": null,
   "metadata": {
    "colab": {
     "base_uri": "https://localhost:8080/",
     "height": 298
    },
    "executionInfo": {
     "elapsed": 9,
     "status": "ok",
     "timestamp": 1679676367523,
     "user": {
      "displayName": "Kirtika Rudra",
      "userId": "07472214669267027492"
     },
     "user_tz": -330
    },
    "id": "E2RgtJ7eg0Tr",
    "outputId": "056d7155-56e2-4e2f-9c54-8fefc344f8a8"
   },
   "outputs": [
    {
     "data": {
      "text/plain": [
       "<Axes: xlabel='Partner_working', ylabel='count'>"
      ]
     },
     "execution_count": 12,
     "metadata": {},
     "output_type": "execute_result"
    },
    {
     "data": {
      "image/png": "[encoded data removed]",
      "text/plain": [
       "<Figure size 432x288 with 1 Axes>"
      ]
     },
     "metadata": {
      "needs_background": "light"
     },
     "output_type": "display_data"
    }
   ],
   "source": [
    "sns.countplot(x='Partner_working', hue='Make', data=df)"
   ]
  },
  {
   "cell_type": "code",
   "execution_count": null,
   "metadata": {
    "colab": {
     "base_uri": "https://localhost:8080/",
     "height": 298
    },
    "executionInfo": {
     "elapsed": 1075,
     "status": "ok",
     "timestamp": 1679660350853,
     "user": {
      "displayName": "Kirtika Rudra",
      "userId": "07472214669267027492"
     },
     "user_tz": -330
    },
    "id": "gJ1ayLycjqHW",
    "outputId": "0afca536-2f0d-4c02-f4b5-d974b1b86d07"
   },
   "outputs": [
    {
     "data": {
      "text/plain": [
       "<Axes: xlabel='Partner_working', ylabel='Price'>"
      ]
     },
     "execution_count": 71,
     "metadata": {},
     "output_type": "execute_result"
    },
    {
     "data": {
      "image/png": "[encoded data removed]",
      "text/plain": [
       "<Figure size 432x288 with 1 Axes>"
      ]
     },
     "metadata": {
      "needs_background": "light"
     },
     "output_type": "display_data"
    }
   ],
   "source": [
    "sns.boxplot(x='Partner_working', y='Price', hue='Make', data=df)"
   ]
  },
  {
   "cell_type": "code",
   "execution_count": null,
   "metadata": {
    "colab": {
     "base_uri": "https://localhost:8080/",
     "height": 733
    },
    "executionInfo": {
     "elapsed": 1033,
     "status": "ok",
     "timestamp": 1679843442097,
     "user": {
      "displayName": "Kirtika Rudra",
      "userId": "07472214669267027492"
     },
     "user_tz": -330
    },
    "id": "wHj1frhzb_9_",
    "outputId": "4a8ec1cc-a8c8-4fe8-fba5-e026926804e1"
   },
   "outputs": [
    {
     "data": {
      "text/plain": [
       "<Axes: xlabel='Partner_working', ylabel='Total_salary'>"
      ]
     },
     "execution_count": 21,
     "metadata": {},
     "output_type": "execute_result"
    },
    {
     "data": {
      "image/png": "[encoded data removed]",
      "text/plain": [
       "<Figure size 1440x864 with 1 Axes>"
      ]
     },
     "metadata": {
      "needs_background": "light"
     },
     "output_type": "display_data"
    }
   ],
   "source": [
    "plt.figure(figsize=(20, 12))\n",
    "sns.barplot(x='Partner_working', y='Total_salary', hue='Make', data=df)"
   ]
  },
  {
   "cell_type": "code",
   "execution_count": null,
   "metadata": {
    "colab": {
     "base_uri": "https://localhost:8080/",
     "height": 175
    },
    "executionInfo": {
     "elapsed": 568,
     "status": "ok",
     "timestamp": 1679764203826,
     "user": {
      "displayName": "Kirtika Rudra",
      "userId": "07472214669267027492"
     },
     "user_tz": -330
    },
    "id": "Lt9ujCvZdSx8",
    "outputId": "b24d99ad-dfa0-4811-bc0b-2ae1950f4dbd"
   },
   "outputs": [
    {
     "data": {
      "text/html": [
       "\n",
       "  <div id=\"df-5b7fb591-a799-4b6e-bf58-d7f764f147bb\">\n",
       "    <div class=\"colab-df-container\">\n",
       "      <div>\n",
       "<style scoped>\n",
       "    .dataframe tbody tr th:only-of-type {\n",
       "        vertical-align: middle;\n",
       "    }\n",
       "\n",
       "    .dataframe tbody tr th {\n",
       "        vertical-align: top;\n",
       "    }\n",
       "\n",
       "    .dataframe thead th {\n",
       "        text-align: right;\n",
       "    }\n",
       "</style>\n",
       "<table border=\"1\" class=\"dataframe\">\n",
       "  <thead>\n",
       "    <tr style=\"text-align: right;\">\n",
       "      <th>Partner_working</th>\n",
       "      <th>No</th>\n",
       "      <th>Yes</th>\n",
       "    </tr>\n",
       "    <tr>\n",
       "      <th>Make</th>\n",
       "      <th></th>\n",
       "      <th></th>\n",
       "    </tr>\n",
       "  </thead>\n",
       "  <tbody>\n",
       "    <tr>\n",
       "      <th>Hatchback</th>\n",
       "      <td>26323.843416</td>\n",
       "      <td>26614.617940</td>\n",
       "    </tr>\n",
       "    <tr>\n",
       "      <th>SUV</th>\n",
       "      <td>56173.611111</td>\n",
       "      <td>55496.732026</td>\n",
       "    </tr>\n",
       "    <tr>\n",
       "      <th>Sedan</th>\n",
       "      <td>35354.166667</td>\n",
       "      <td>34082.125604</td>\n",
       "    </tr>\n",
       "  </tbody>\n",
       "</table>\n",
       "</div>\n",
       "      <button class=\"colab-df-convert\" onclick=\"convertToInteractive('df-5b7fb591-a799-4b6e-bf58-d7f764f147bb')\"\n",
       "              title=\"Convert this dataframe to an interactive table.\"\n",
       "              style=\"display:none;\">\n",
       "        \n",
       "  <svg xmlns=\"http://www.w3.org/2000/svg\" height=\"24px\"viewBox=\"0 0 24 24\"\n",
       "       width=\"24px\">\n",
       "    <path d=\"M0 0h24v24H0V0z\" fill=\"none\"/>\n",
       "    <path d=\"M18.56 5.44l.94 2.06.94-2.06 2.06-.94-2.06-.94-.94-2.06-.94 2.06-2.06.94zm-11 1L8.5 8.5l.94-2.06 2.06-.94-2.06-.94L8.5 2.5l-.94 2.06-2.06.94zm10 10l.94 2.06.94-2.06 2.06-.94-2.06-.94-.94-2.06-.94 2.06-2.06.94z\"/><path d=\"M17.41 7.96l-1.37-1.37c-.4-.4-.92-.59-1.43-.59-.52 0-1.04.2-1.43.59L10.3 9.45l-7.72 7.72c-.78.78-.78 2.05 0 2.83L4 21.41c.39.39.9.59 1.41.59.51 0 1.02-.2 1.41-.59l7.78-7.78 2.81-2.81c.8-.78.8-2.07 0-2.86zM5.41 20L4 18.59l7.72-7.72 1.47 1.35L5.41 20z\"/>\n",
       "  </svg>\n",
       "      </button>\n",
       "      \n",
       "  <style>\n",
       "    .colab-df-container {\n",
       "      display:flex;\n",
       "      flex-wrap:wrap;\n",
       "      gap: 12px;\n",
       "    }\n",
       "\n",
       "    .colab-df-convert {\n",
       "      background-color: #E8F0FE;\n",
       "      border: none;\n",
       "      border-radius: 50%;\n",
       "      cursor: pointer;\n",
       "      display: none;\n",
       "      fill: #1967D2;\n",
       "      height: 32px;\n",
       "      padding: 0 0 0 0;\n",
       "      width: 32px;\n",
       "    }\n",
       "\n",
       "    .colab-df-convert:hover {\n",
       "      background-color: #E2EBFA;\n",
       "      box-shadow: 0px 1px 2px rgba(60, 64, 67, 0.3), 0px 1px 3px 1px rgba(60, 64, 67, 0.15);\n",
       "      fill: #174EA6;\n",
       "    }\n",
       "\n",
       "    [theme=dark] .colab-df-convert {\n",
       "      background-color: #3B4455;\n",
       "      fill: #D2E3FC;\n",
       "    }\n",
       "\n",
       "    [theme=dark] .colab-df-convert:hover {\n",
       "      background-color: #434B5C;\n",
       "      box-shadow: 0px 1px 3px 1px rgba(0, 0, 0, 0.15);\n",
       "      filter: drop-shadow(0px 1px 2px rgba(0, 0, 0, 0.3));\n",
       "      fill: #FFFFFF;\n",
       "    }\n",
       "  </style>\n",
       "\n",
       "      <script>\n",
       "        const buttonEl =\n",
       "          document.querySelector('#df-5b7fb591-a799-4b6e-bf58-d7f764f147bb button.colab-df-convert');\n",
       "        buttonEl.style.display =\n",
       "          google.colab.kernel.accessAllowed ? 'block' : 'none';\n",
       "\n",
       "        async function convertToInteractive(key) {\n",
       "          const element = document.querySelector('#df-5b7fb591-a799-4b6e-bf58-d7f764f147bb');\n",
       "          const dataTable =\n",
       "            await google.colab.kernel.invokeFunction('convertToInteractive',\n",
       "                                                     [key], {});\n",
       "          if (!dataTable) return;\n",
       "\n",
       "          const docLinkHtml = 'Like what you see? Visit the ' +\n",
       "            '<a target=\"_blank\" href=https://colab.research.google.com/notebooks/data_table.ipynb>data table notebook</a>'\n",
       "            + ' to learn more about interactive tables.';\n",
       "          element.innerHTML = '';\n",
       "          dataTable['output_type'] = 'display_data';\n",
       "          await google.colab.output.renderOutput(dataTable, element);\n",
       "          const docLink = document.createElement('div');\n",
       "          docLink.innerHTML = docLinkHtml;\n",
       "          element.appendChild(docLink);\n",
       "        }\n",
       "      </script>\n",
       "    </div>\n",
       "  </div>\n",
       "  "
      ],
      "text/plain": [
       "Partner_working            No           Yes\n",
       "Make                                       \n",
       "Hatchback        26323.843416  26614.617940\n",
       "SUV              56173.611111  55496.732026\n",
       "Sedan            35354.166667  34082.125604"
      ]
     },
     "execution_count": 57,
     "metadata": {},
     "output_type": "execute_result"
    }
   ],
   "source": [
    "pd.crosstab(df['Make'], df['Partner_working'], values=df['Price'], aggfunc='mean').sort_values(by='Make')"
   ]
  },
  {
   "cell_type": "code",
   "execution_count": null,
   "metadata": {
    "colab": {
     "base_uri": "https://localhost:8080/",
     "height": 175
    },
    "executionInfo": {
     "elapsed": 961,
     "status": "ok",
     "timestamp": 1679844094775,
     "user": {
      "displayName": "Kirtika Rudra",
      "userId": "07472214669267027492"
     },
     "user_tz": -330
    },
    "id": "1k_8TlonuTpx",
    "outputId": "183b384c-23e8-4c4a-9233-64f90def1ea6"
   },
   "outputs": [
    {
     "data": {
      "text/html": [
       "\n",
       "  <div id=\"df-33d897b7-505a-47ba-af5b-23ce6d494606\">\n",
       "    <div class=\"colab-df-container\">\n",
       "      <div>\n",
       "<style scoped>\n",
       "    .dataframe tbody tr th:only-of-type {\n",
       "        vertical-align: middle;\n",
       "    }\n",
       "\n",
       "    .dataframe tbody tr th {\n",
       "        vertical-align: top;\n",
       "    }\n",
       "\n",
       "    .dataframe thead th {\n",
       "        text-align: right;\n",
       "    }\n",
       "</style>\n",
       "<table border=\"1\" class=\"dataframe\">\n",
       "  <thead>\n",
       "    <tr style=\"text-align: right;\">\n",
       "      <th>Marital_status</th>\n",
       "      <th>Married</th>\n",
       "      <th>Single</th>\n",
       "    </tr>\n",
       "    <tr>\n",
       "      <th>Gender</th>\n",
       "      <th></th>\n",
       "      <th></th>\n",
       "    </tr>\n",
       "  </thead>\n",
       "  <tbody>\n",
       "    <tr>\n",
       "      <th>Female</th>\n",
       "      <td>47918.566775</td>\n",
       "      <td>44727.272727</td>\n",
       "    </tr>\n",
       "    <tr>\n",
       "      <th>Male</th>\n",
       "      <td>32977.941176</td>\n",
       "      <td>31243.243243</td>\n",
       "    </tr>\n",
       "    <tr>\n",
       "      <th>Unknown</th>\n",
       "      <td>22270.833333</td>\n",
       "      <td>33600.000000</td>\n",
       "    </tr>\n",
       "  </tbody>\n",
       "</table>\n",
       "</div>\n",
       "      <button class=\"colab-df-convert\" onclick=\"convertToInteractive('df-33d897b7-505a-47ba-af5b-23ce6d494606')\"\n",
       "              title=\"Convert this dataframe to an interactive table.\"\n",
       "              style=\"display:none;\">\n",
       "        \n",
       "  <svg xmlns=\"http://www.w3.org/2000/svg\" height=\"24px\"viewBox=\"0 0 24 24\"\n",
       "       width=\"24px\">\n",
       "    <path d=\"M0 0h24v24H0V0z\" fill=\"none\"/>\n",
       "    <path d=\"M18.56 5.44l.94 2.06.94-2.06 2.06-.94-2.06-.94-.94-2.06-.94 2.06-2.06.94zm-11 1L8.5 8.5l.94-2.06 2.06-.94-2.06-.94L8.5 2.5l-.94 2.06-2.06.94zm10 10l.94 2.06.94-2.06 2.06-.94-2.06-.94-.94-2.06-.94 2.06-2.06.94z\"/><path d=\"M17.41 7.96l-1.37-1.37c-.4-.4-.92-.59-1.43-.59-.52 0-1.04.2-1.43.59L10.3 9.45l-7.72 7.72c-.78.78-.78 2.05 0 2.83L4 21.41c.39.39.9.59 1.41.59.51 0 1.02-.2 1.41-.59l7.78-7.78 2.81-2.81c.8-.78.8-2.07 0-2.86zM5.41 20L4 18.59l7.72-7.72 1.47 1.35L5.41 20z\"/>\n",
       "  </svg>\n",
       "      </button>\n",
       "      \n",
       "  <style>\n",
       "    .colab-df-container {\n",
       "      display:flex;\n",
       "      flex-wrap:wrap;\n",
       "      gap: 12px;\n",
       "    }\n",
       "\n",
       "    .colab-df-convert {\n",
       "      background-color: #E8F0FE;\n",
       "      border: none;\n",
       "      border-radius: 50%;\n",
       "      cursor: pointer;\n",
       "      display: none;\n",
       "      fill: #1967D2;\n",
       "      height: 32px;\n",
       "      padding: 0 0 0 0;\n",
       "      width: 32px;\n",
       "    }\n",
       "\n",
       "    .colab-df-convert:hover {\n",
       "      background-color: #E2EBFA;\n",
       "      box-shadow: 0px 1px 2px rgba(60, 64, 67, 0.3), 0px 1px 3px 1px rgba(60, 64, 67, 0.15);\n",
       "      fill: #174EA6;\n",
       "    }\n",
       "\n",
       "    [theme=dark] .colab-df-convert {\n",
       "      background-color: #3B4455;\n",
       "      fill: #D2E3FC;\n",
       "    }\n",
       "\n",
       "    [theme=dark] .colab-df-convert:hover {\n",
       "      background-color: #434B5C;\n",
       "      box-shadow: 0px 1px 3px 1px rgba(0, 0, 0, 0.15);\n",
       "      filter: drop-shadow(0px 1px 2px rgba(0, 0, 0, 0.3));\n",
       "      fill: #FFFFFF;\n",
       "    }\n",
       "  </style>\n",
       "\n",
       "      <script>\n",
       "        const buttonEl =\n",
       "          document.querySelector('#df-33d897b7-505a-47ba-af5b-23ce6d494606 button.colab-df-convert');\n",
       "        buttonEl.style.display =\n",
       "          google.colab.kernel.accessAllowed ? 'block' : 'none';\n",
       "\n",
       "        async function convertToInteractive(key) {\n",
       "          const element = document.querySelector('#df-33d897b7-505a-47ba-af5b-23ce6d494606');\n",
       "          const dataTable =\n",
       "            await google.colab.kernel.invokeFunction('convertToInteractive',\n",
       "                                                     [key], {});\n",
       "          if (!dataTable) return;\n",
       "\n",
       "          const docLinkHtml = 'Like what you see? Visit the ' +\n",
       "            '<a target=\"_blank\" href=https://colab.research.google.com/notebooks/data_table.ipynb>data table notebook</a>'\n",
       "            + ' to learn more about interactive tables.';\n",
       "          element.innerHTML = '';\n",
       "          dataTable['output_type'] = 'display_data';\n",
       "          await google.colab.output.renderOutput(dataTable, element);\n",
       "          const docLink = document.createElement('div');\n",
       "          docLink.innerHTML = docLinkHtml;\n",
       "          element.appendChild(docLink);\n",
       "        }\n",
       "      </script>\n",
       "    </div>\n",
       "  </div>\n",
       "  "
      ],
      "text/plain": [
       "Marital_status       Married        Single\n",
       "Gender                                    \n",
       "Female          47918.566775  44727.272727\n",
       "Male            32977.941176  31243.243243\n",
       "Unknown         22270.833333  33600.000000"
      ]
     },
     "execution_count": 27,
     "metadata": {},
     "output_type": "execute_result"
    }
   ],
   "source": [
    "pd.crosstab(df['Gender'], df['Marital_status'], values=df['Price'], aggfunc='mean').sort_values(by='Gender')"
   ]
  },
  {
   "cell_type": "code",
   "execution_count": null,
   "metadata": {
    "id": "0cxrVUargEnR"
   },
   "outputs": [],
   "source": []
  }
 ],
 "metadata": {
  "colab": {
   "authorship_tag": "ABX9TyOJveJFDYsdCrYNGA0JmoGU",
   "provenance": []
  },
  "kernelspec": {
   "display_name": "Python 3",
   "name": "python3"
  },
  "language_info": {
   "name": "python"
  }
 },
 "nbformat": 4,
 "nbformat_minor": 0
}
